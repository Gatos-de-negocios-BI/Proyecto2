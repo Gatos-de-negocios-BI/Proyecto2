{
 "cells": [
  {
   "cell_type": "markdown",
   "metadata": {},
   "source": [
    "<h1>Análisis de datos de Conflicto Armado</h1>"
   ]
  },
  {
   "cell_type": "code",
   "execution_count": 5,
   "metadata": {},
   "outputs": [],
   "source": [
    "import pandas as pd\n",
    "import numpy as np"
   ]
  },
  {
   "cell_type": "code",
   "execution_count": 6,
   "metadata": {},
   "outputs": [
    {
     "name": "stderr",
     "output_type": "stream",
     "text": [
      "C:\\Users\\elpin\\AppData\\Local\\Temp\\ipykernel_13924\\287794503.py:1: DtypeWarning: Columns (8) have mixed types. Specify dtype option on import or set low_memory=False.\n",
      "  data = pd.read_csv('Datos/ConflictoArmado.csv', delimiter=';', decimal=',')\n"
     ]
    }
   ],
   "source": [
    "data = pd.read_csv('Datos/ConflictoArmado.csv', delimiter=';', decimal=',')"
   ]
  },
  {
   "cell_type": "code",
   "execution_count": 7,
   "metadata": {},
   "outputs": [
    {
     "data": {
      "text/plain": [
       "(314119, 13)"
      ]
     },
     "execution_count": 7,
     "metadata": {},
     "output_type": "execute_result"
    }
   ],
   "source": [
    "data.shape"
   ]
  },
  {
   "cell_type": "code",
   "execution_count": 8,
   "metadata": {},
   "outputs": [
    {
     "data": {
      "text/html": [
       "<div>\n",
       "<style scoped>\n",
       "    .dataframe tbody tr th:only-of-type {\n",
       "        vertical-align: middle;\n",
       "    }\n",
       "\n",
       "    .dataframe tbody tr th {\n",
       "        vertical-align: top;\n",
       "    }\n",
       "\n",
       "    .dataframe thead th {\n",
       "        text-align: right;\n",
       "    }\n",
       "</style>\n",
       "<table border=\"1\" class=\"dataframe\">\n",
       "  <thead>\n",
       "    <tr style=\"text-align: right;\">\n",
       "      <th></th>\n",
       "      <th>Código Departamento</th>\n",
       "      <th>Código Entidad</th>\n",
       "      <th>Año</th>\n",
       "      <th>Mes</th>\n",
       "    </tr>\n",
       "  </thead>\n",
       "  <tbody>\n",
       "    <tr>\n",
       "      <th>count</th>\n",
       "      <td>314118.000000</td>\n",
       "      <td>314118.000000</td>\n",
       "      <td>314118.000000</td>\n",
       "      <td>314118.0</td>\n",
       "    </tr>\n",
       "    <tr>\n",
       "      <th>mean</th>\n",
       "      <td>37.666667</td>\n",
       "      <td>38084.496473</td>\n",
       "      <td>2009.537906</td>\n",
       "      <td>12.0</td>\n",
       "    </tr>\n",
       "    <tr>\n",
       "      <th>std</th>\n",
       "      <td>26.018316</td>\n",
       "      <td>25990.452996</td>\n",
       "      <td>8.537646</td>\n",
       "      <td>0.0</td>\n",
       "    </tr>\n",
       "    <tr>\n",
       "      <th>min</th>\n",
       "      <td>1.000000</td>\n",
       "      <td>1001.000000</td>\n",
       "      <td>1984.000000</td>\n",
       "      <td>12.0</td>\n",
       "    </tr>\n",
       "    <tr>\n",
       "      <th>25%</th>\n",
       "      <td>15.000000</td>\n",
       "      <td>15667.000000</td>\n",
       "      <td>2006.000000</td>\n",
       "      <td>12.0</td>\n",
       "    </tr>\n",
       "    <tr>\n",
       "      <th>50%</th>\n",
       "      <td>25.000000</td>\n",
       "      <td>25806.000000</td>\n",
       "      <td>2014.000000</td>\n",
       "      <td>12.0</td>\n",
       "    </tr>\n",
       "    <tr>\n",
       "      <th>75%</th>\n",
       "      <td>66.000000</td>\n",
       "      <td>66000.000000</td>\n",
       "      <td>2015.000000</td>\n",
       "      <td>12.0</td>\n",
       "    </tr>\n",
       "    <tr>\n",
       "      <th>max</th>\n",
       "      <td>99.000000</td>\n",
       "      <td>99773.000000</td>\n",
       "      <td>2018.000000</td>\n",
       "      <td>12.0</td>\n",
       "    </tr>\n",
       "  </tbody>\n",
       "</table>\n",
       "</div>"
      ],
      "text/plain": [
       "       Código Departamento  Código Entidad            Año       Mes\n",
       "count        314118.000000   314118.000000  314118.000000  314118.0\n",
       "mean             37.666667    38084.496473    2009.537906      12.0\n",
       "std              26.018316    25990.452996       8.537646       0.0\n",
       "min               1.000000     1001.000000    1984.000000      12.0\n",
       "25%              15.000000    15667.000000    2006.000000      12.0\n",
       "50%              25.000000    25806.000000    2014.000000      12.0\n",
       "75%              66.000000    66000.000000    2015.000000      12.0\n",
       "max              99.000000    99773.000000    2018.000000      12.0"
      ]
     },
     "execution_count": 8,
     "metadata": {},
     "output_type": "execute_result"
    }
   ],
   "source": [
    "data.describe()"
   ]
  },
  {
   "cell_type": "code",
   "execution_count": 9,
   "metadata": {},
   "outputs": [
    {
     "data": {
      "text/html": [
       "<div>\n",
       "<style scoped>\n",
       "    .dataframe tbody tr th:only-of-type {\n",
       "        vertical-align: middle;\n",
       "    }\n",
       "\n",
       "    .dataframe tbody tr th {\n",
       "        vertical-align: top;\n",
       "    }\n",
       "\n",
       "    .dataframe thead th {\n",
       "        text-align: right;\n",
       "    }\n",
       "</style>\n",
       "<table border=\"1\" class=\"dataframe\">\n",
       "  <thead>\n",
       "    <tr style=\"text-align: right;\">\n",
       "      <th></th>\n",
       "      <th>Código Departamento</th>\n",
       "      <th>Departamento</th>\n",
       "      <th>Código Entidad</th>\n",
       "      <th>Entidad</th>\n",
       "      <th>Dimensión</th>\n",
       "      <th>Subcategoría</th>\n",
       "      <th>Indicador</th>\n",
       "      <th>Dato Numérico</th>\n",
       "      <th>Dato Cualitativo</th>\n",
       "      <th>Año</th>\n",
       "      <th>Mes</th>\n",
       "      <th>Fuente</th>\n",
       "      <th>Unidad de Medida</th>\n",
       "    </tr>\n",
       "  </thead>\n",
       "  <tbody>\n",
       "    <tr>\n",
       "      <th>0</th>\n",
       "      <td>NaN</td>\n",
       "      <td>NaN</td>\n",
       "      <td>NaN</td>\n",
       "      <td>NaN</td>\n",
       "      <td>NaN</td>\n",
       "      <td>NaN</td>\n",
       "      <td>aaaaaaaaaaaaaaaaaaaaaaaaaaaaaaaaaaaaaaaaaaaaaa...</td>\n",
       "      <td>NaN</td>\n",
       "      <td>NaN</td>\n",
       "      <td>NaN</td>\n",
       "      <td>NaN</td>\n",
       "      <td>aaaaaaaaaaaaaaaaaaaaaaaaaaaaaaaaaaaaaaaaaaaaaa...</td>\n",
       "      <td>NaN</td>\n",
       "    </tr>\n",
       "    <tr>\n",
       "      <th>1</th>\n",
       "      <td>1.0</td>\n",
       "      <td>Colombia</td>\n",
       "      <td>1001.0</td>\n",
       "      <td>Colombia</td>\n",
       "      <td>Conflicto armado y seguridad ciudadana</td>\n",
       "      <td>Conflicto armado</td>\n",
       "      <td>Número acumulado de personas secuestradas</td>\n",
       "      <td>35.826,00</td>\n",
       "      <td>1984 - 2017</td>\n",
       "      <td>2017.0</td>\n",
       "      <td>12.0</td>\n",
       "      <td>Unidad para la Atención y Reparación Integral ...</td>\n",
       "      <td>Personas</td>\n",
       "    </tr>\n",
       "    <tr>\n",
       "      <th>2</th>\n",
       "      <td>5.0</td>\n",
       "      <td>Antioquia</td>\n",
       "      <td>5000.0</td>\n",
       "      <td>Antioquia</td>\n",
       "      <td>Conflicto armado y seguridad ciudadana</td>\n",
       "      <td>Conflicto armado</td>\n",
       "      <td>Número acumulado de personas secuestradas</td>\n",
       "      <td>8.246,00</td>\n",
       "      <td>1984 - 2017</td>\n",
       "      <td>2017.0</td>\n",
       "      <td>12.0</td>\n",
       "      <td>Unidad para la Atención y Reparación Integral ...</td>\n",
       "      <td>Personas</td>\n",
       "    </tr>\n",
       "    <tr>\n",
       "      <th>3</th>\n",
       "      <td>5.0</td>\n",
       "      <td>Antioquia</td>\n",
       "      <td>5001.0</td>\n",
       "      <td>Medellín</td>\n",
       "      <td>Conflicto armado y seguridad ciudadana</td>\n",
       "      <td>Conflicto armado</td>\n",
       "      <td>Número acumulado de personas secuestradas</td>\n",
       "      <td>516,00</td>\n",
       "      <td>1984 - 2017</td>\n",
       "      <td>2017.0</td>\n",
       "      <td>12.0</td>\n",
       "      <td>Unidad para la Atención y Reparación Integral ...</td>\n",
       "      <td>Personas</td>\n",
       "    </tr>\n",
       "    <tr>\n",
       "      <th>4</th>\n",
       "      <td>5.0</td>\n",
       "      <td>Antioquia</td>\n",
       "      <td>5002.0</td>\n",
       "      <td>Abejorral</td>\n",
       "      <td>Conflicto armado y seguridad ciudadana</td>\n",
       "      <td>Conflicto armado</td>\n",
       "      <td>Número acumulado de personas secuestradas</td>\n",
       "      <td>75,00</td>\n",
       "      <td>1984 - 2017</td>\n",
       "      <td>2017.0</td>\n",
       "      <td>12.0</td>\n",
       "      <td>Unidad para la Atención y Reparación Integral ...</td>\n",
       "      <td>Personas</td>\n",
       "    </tr>\n",
       "  </tbody>\n",
       "</table>\n",
       "</div>"
      ],
      "text/plain": [
       "   Código Departamento Departamento  Código Entidad    Entidad  \\\n",
       "0                  NaN          NaN             NaN        NaN   \n",
       "1                  1.0     Colombia          1001.0   Colombia   \n",
       "2                  5.0    Antioquia          5000.0  Antioquia   \n",
       "3                  5.0    Antioquia          5001.0   Medellín   \n",
       "4                  5.0    Antioquia          5002.0  Abejorral   \n",
       "\n",
       "                                Dimensión      Subcategoría  \\\n",
       "0                                     NaN               NaN   \n",
       "1  Conflicto armado y seguridad ciudadana  Conflicto armado   \n",
       "2  Conflicto armado y seguridad ciudadana  Conflicto armado   \n",
       "3  Conflicto armado y seguridad ciudadana  Conflicto armado   \n",
       "4  Conflicto armado y seguridad ciudadana  Conflicto armado   \n",
       "\n",
       "                                           Indicador Dato Numérico  \\\n",
       "0  aaaaaaaaaaaaaaaaaaaaaaaaaaaaaaaaaaaaaaaaaaaaaa...           NaN   \n",
       "1          Número acumulado de personas secuestradas     35.826,00   \n",
       "2          Número acumulado de personas secuestradas      8.246,00   \n",
       "3          Número acumulado de personas secuestradas        516,00   \n",
       "4          Número acumulado de personas secuestradas         75,00   \n",
       "\n",
       "  Dato Cualitativo     Año   Mes  \\\n",
       "0              NaN     NaN   NaN   \n",
       "1      1984 - 2017  2017.0  12.0   \n",
       "2      1984 - 2017  2017.0  12.0   \n",
       "3      1984 - 2017  2017.0  12.0   \n",
       "4      1984 - 2017  2017.0  12.0   \n",
       "\n",
       "                                              Fuente Unidad de Medida  \n",
       "0  aaaaaaaaaaaaaaaaaaaaaaaaaaaaaaaaaaaaaaaaaaaaaa...              NaN  \n",
       "1  Unidad para la Atención y Reparación Integral ...         Personas  \n",
       "2  Unidad para la Atención y Reparación Integral ...         Personas  \n",
       "3  Unidad para la Atención y Reparación Integral ...         Personas  \n",
       "4  Unidad para la Atención y Reparación Integral ...         Personas  "
      ]
     },
     "execution_count": 9,
     "metadata": {},
     "output_type": "execute_result"
    }
   ],
   "source": [
    "data.head()"
   ]
  },
  {
   "cell_type": "code",
   "execution_count": 10,
   "metadata": {},
   "outputs": [
    {
     "data": {
      "text/plain": [
       "Código Departamento    float64\n",
       "Departamento            object\n",
       "Código Entidad         float64\n",
       "Entidad                 object\n",
       "Dimensión               object\n",
       "Subcategoría            object\n",
       "Indicador               object\n",
       "Dato Numérico           object\n",
       "Dato Cualitativo        object\n",
       "Año                    float64\n",
       "Mes                    float64\n",
       "Fuente                  object\n",
       "Unidad de Medida        object\n",
       "dtype: object"
      ]
     },
     "execution_count": 10,
     "metadata": {},
     "output_type": "execute_result"
    }
   ],
   "source": [
    "data.dtypes"
   ]
  },
  {
   "cell_type": "code",
   "execution_count": 11,
   "metadata": {},
   "outputs": [
    {
     "data": {
      "text/plain": [
       "Código Departamento    0.000003\n",
       "Departamento           0.000003\n",
       "Código Entidad         0.000003\n",
       "Entidad                0.000003\n",
       "Dimensión              0.000003\n",
       "Subcategoría           0.000003\n",
       "Indicador              0.000000\n",
       "Dato Numérico          0.174969\n",
       "Dato Cualitativo       0.985560\n",
       "Año                    0.000003\n",
       "Mes                    0.000003\n",
       "Fuente                 0.000000\n",
       "Unidad de Medida       0.000003\n",
       "dtype: float64"
      ]
     },
     "execution_count": 11,
     "metadata": {},
     "output_type": "execute_result"
    }
   ],
   "source": [
    "data.isnull().mean()"
   ]
  },
  {
   "cell_type": "code",
   "execution_count": 12,
   "metadata": {},
   "outputs": [
    {
     "data": {
      "text/plain": [
       "1.1605569863650398"
      ]
     },
     "execution_count": 12,
     "metadata": {},
     "output_type": "execute_result"
    }
   ],
   "source": [
    "data.isnull().mean().sum()"
   ]
  },
  {
   "cell_type": "code",
   "execution_count": 13,
   "metadata": {},
   "outputs": [],
   "source": [
    "data = data.drop(data.index[0])"
   ]
  },
  {
   "cell_type": "code",
   "execution_count": 14,
   "metadata": {},
   "outputs": [
    {
     "data": {
      "text/plain": [
       "Código Departamento    0.000000\n",
       "Departamento           0.000000\n",
       "Código Entidad         0.000000\n",
       "Entidad                0.000000\n",
       "Dimensión              0.000000\n",
       "Subcategoría           0.000000\n",
       "Indicador              0.000000\n",
       "Dato Numérico          0.174966\n",
       "Dato Cualitativo       0.985560\n",
       "Año                    0.000000\n",
       "Mes                    0.000000\n",
       "Fuente                 0.000000\n",
       "Unidad de Medida       0.000000\n",
       "dtype: float64"
      ]
     },
     "execution_count": 14,
     "metadata": {},
     "output_type": "execute_result"
    }
   ],
   "source": [
    "data.isnull().mean()"
   ]
  },
  {
   "cell_type": "code",
   "execution_count": 15,
   "metadata": {},
   "outputs": [],
   "source": [
    "data['Dato Cualitativo'].fillna('No aplica', inplace=True)"
   ]
  },
  {
   "cell_type": "code",
   "execution_count": 16,
   "metadata": {},
   "outputs": [],
   "source": [
    "data = data.dropna(how='any', axis=0)"
   ]
  },
  {
   "cell_type": "code",
   "execution_count": 17,
   "metadata": {},
   "outputs": [
    {
     "data": {
      "text/plain": [
       "Código Departamento    0.0\n",
       "Departamento           0.0\n",
       "Código Entidad         0.0\n",
       "Entidad                0.0\n",
       "Dimensión              0.0\n",
       "Subcategoría           0.0\n",
       "Indicador              0.0\n",
       "Dato Numérico          0.0\n",
       "Dato Cualitativo       0.0\n",
       "Año                    0.0\n",
       "Mes                    0.0\n",
       "Fuente                 0.0\n",
       "Unidad de Medida       0.0\n",
       "dtype: float64"
      ]
     },
     "execution_count": 17,
     "metadata": {},
     "output_type": "execute_result"
    }
   ],
   "source": [
    "data.isnull().mean()"
   ]
  },
  {
   "cell_type": "code",
   "execution_count": 18,
   "metadata": {},
   "outputs": [
    {
     "data": {
      "text/plain": [
       "(259158, 13)"
      ]
     },
     "execution_count": 18,
     "metadata": {},
     "output_type": "execute_result"
    }
   ],
   "source": [
    "data.shape"
   ]
  },
  {
   "cell_type": "code",
   "execution_count": 19,
   "metadata": {},
   "outputs": [
    {
     "data": {
      "text/plain": [
       "Número de personas secuestradas                                                                                     38556\n",
       "Número de personas desplazadas                                                                                      38556\n",
       "Número de personas víctimas de minas antipersona                                                                    31752\n",
       "Tasa de homicidios (x cada 100.000 habitantes)                                                                      16993\n",
       "Tasa de violencia intrafamiliar (x cada 100.000 habitantes)                                                         16949\n",
       "Tasa de hurtos (x cada 100.000 habitantes)                                                                          14036\n",
       "Tasa de violencias basadas en género                                                                                 5670\n",
       "Tasa de presuntos delitos sexuales hacia mujeres (x cada 100.000 mujeres)                                            2797\n",
       "Presuntos delitos sexuales - Total de casos                                                                          2797\n",
       "Presuntos delitos sexuales - Hombres                                                                                 2797\n",
       "Tasa de presuntos delitos sexuales (x cada 100.000 habitantes)                                                       2797\n",
       "Tasa de presuntos delitos sexuales hacia hombres (x cada 100.000 hombres)                                            2797\n",
       "Presuntos delitos sexuales - Mujeres                                                                                 2754\n",
       "Violencia de pareja -  Total de casos                                                                                2545\n",
       "Violencia de pareja - Víctima hombre                                                                                 2545\n",
       "Tasa de violencia de pareja (x cada 100.000 habitantes)                                                              2545\n",
       "Tasa de violencia de pareja hacia hombres (x cada 100.000 hombres)                                                   2545\n",
       "Tasa de violencia de pareja hacia mujeres (x cada 100.000 mujeres)                                                   2545\n",
       "Homicidio de mujeres por:  Delincuencia común                                                                        2282\n",
       "Tasa de homicidios de mujeres (x cada 100.000 mujeres)                                                               2282\n",
       "Tasa de homicidios de hombres (x cada 100.000 hombres)                                                               2282\n",
       "Homicidio de mujeres por:  Delincuencia organizada                                                                   2282\n",
       "Homicidio de mujeres:  Total                                                                                         2282\n",
       "Homicidio de mujeres por:  Sin información                                                                           2282\n",
       "Homicidio de mujeres por:  Pareja o ex pareja                                                                        2282\n",
       "Homicidio de mujeres por:  Grupos alzados al margen de la ley                                                        2282\n",
       "Homicidio de mujeres por:  Familiar                                                                                  2282\n",
       "Homicidio de mujeres por:  Fuerzas armadas y de policía                                                              2282\n",
       "Homicidio de mujeres por:  Conocido                                                                                  2282\n",
       "Homicidio de hombres por:  Pareja o ex pareja                                                                        2282\n",
       "Homicidio de hombres por:  Agresor desconocido                                                                       2282\n",
       "Homicidio de hombres por:  Amigo                                                                                     2282\n",
       "Homicidio de mujeres por:  Amigo                                                                                     2282\n",
       "Homicidio de hombres por:  Delincuencia común                                                                        2282\n",
       "Homicidio de hombres por:  Familiar                                                                                  2282\n",
       "Homicidio de hombres por:  Fuerzas armadas y de policía                                                              2282\n",
       "Homicidio de hombres por:  Grupos alzados al margen de la ley                                                        2282\n",
       "Homicidio de hombres por:  Conocido                                                                                  2282\n",
       "Homicidio de hombres por:  Seguridad privada                                                                         2282\n",
       "Homicidio de hombres por:  Sin información                                                                           2282\n",
       "Homicidio de hombres:  Total                                                                                         2282\n",
       "Homicidio de hombres por:  Delincuencia organizada                                                                   2282\n",
       "Homicidio de mujeres por:  Agresor desconocido                                                                       2282\n",
       "Violencia de pareja - Víctima mujer                                                                                  1669\n",
       "Homicidio de hombres por:  Otros                                                                                     1508\n",
       "Homicidio de mujeres por:  Otros                                                                                     1508\n",
       "Número acumulado de personas desplazadas expulsadas                                                                  1134\n",
       "Número acumulado de personas desplazadas recibidas                                                                   1134\n",
       "Número acumulado de personas víctimas de minas antipersona                                                           1134\n",
       "Número acumulado de personas secuestradas                                                                            1134\n",
       "Homicidio de hombres por:  Personal de custodia en centros de internamiento especializado de menores infractores      764\n",
       "Percepción de la seguridad - Algo inseguro                                                                             21\n",
       "Percepción de la seguridad - Algo seguro                                                                               21\n",
       "Percepción de la seguridad - Muy seguro                                                                                21\n",
       "Percepción de la seguridad - Nada seguro                                                                               21\n",
       "Percepción de la seguridad - Ni seguro ni inseguro                                                                     21\n",
       "Percepción de la seguridad - Poco seguro                                                                               21\n",
       "Percepción de la seguridad - Seguro                                                                                    21\n",
       "Name: Indicador, dtype: int64"
      ]
     },
     "execution_count": 19,
     "metadata": {},
     "output_type": "execute_result"
    }
   ],
   "source": [
    "data['Indicador'].value_counts()"
   ]
  },
  {
   "cell_type": "code",
   "execution_count": 20,
   "metadata": {},
   "outputs": [
    {
     "name": "stderr",
     "output_type": "stream",
     "text": [
      "C:\\Users\\elpin\\AppData\\Local\\Temp\\ipykernel_13924\\3510602877.py:1: FutureWarning: The default value of regex will change from True to False in a future version. In addition, single character regular expressions will *not* be treated as literal strings when regex=True.\n",
      "  data['Dato Numérico'] = data['Dato Numérico'].str.replace('.','')\n"
     ]
    }
   ],
   "source": [
    "data['Dato Numérico'] = data['Dato Numérico'].str.replace('.','')"
   ]
  },
  {
   "cell_type": "code",
   "execution_count": 21,
   "metadata": {},
   "outputs": [],
   "source": [
    "data['Dato Numérico'] = data['Dato Numérico'].str.replace(',00',',0')"
   ]
  },
  {
   "cell_type": "code",
   "execution_count": 22,
   "metadata": {},
   "outputs": [],
   "source": [
    "data['Dato Numérico'] = data['Dato Numérico'].str.replace(',','.')"
   ]
  },
  {
   "cell_type": "code",
   "execution_count": 23,
   "metadata": {},
   "outputs": [],
   "source": [
    "data['Dato Numérico'] = data['Dato Numérico'].astype('float')"
   ]
  },
  {
   "cell_type": "code",
   "execution_count": 24,
   "metadata": {},
   "outputs": [
    {
     "data": {
      "text/plain": [
       "Antioquia                   30842\n",
       "Cundinamarca                26415\n",
       "Boyacá                      23659\n",
       "Santander                   18277\n",
       "Nariño                      13622\n",
       "Valle del Cauca             11224\n",
       "Tolima                      10836\n",
       "Bolívar                     10615\n",
       "Cauca                       10361\n",
       "Huila                        9347\n",
       "Norte de Santander           9160\n",
       "Meta                         7559\n",
       "Córdoba                      7352\n",
       "Magdalena                    6885\n",
       "Chocó                        6833\n",
       "Caldas                       6680\n",
       "Cesar                        6531\n",
       "Sucre                        6335\n",
       "Atlántico                    5896\n",
       "Casanare                     4715\n",
       "Caquetá                      4100\n",
       "La Guajira                   4089\n",
       "Risaralda                    3946\n",
       "Putumayo                     3424\n",
       "Quindío                      3326\n",
       "Arauca                       2032\n",
       "Guaviare                     1207\n",
       "Vichada                      1121\n",
       "Amazonas                      757\n",
       "Vaupés                        601\n",
       "Guainía                       452\n",
       "San Andrés y Providencia      422\n",
       "Bogotá                        272\n",
       "Colombia                      265\n",
       "Name: Departamento, dtype: int64"
      ]
     },
     "execution_count": 24,
     "metadata": {},
     "output_type": "execute_result"
    }
   ],
   "source": [
    "data['Departamento'].value_counts()"
   ]
  },
  {
   "cell_type": "code",
   "execution_count": 25,
   "metadata": {},
   "outputs": [],
   "source": [
    "data.to_csv('Datos/ConflictoArmado_limpio.csv', index=False, decimal='.', sep=';')"
   ]
  }
 ],
 "metadata": {
  "kernelspec": {
   "display_name": "Python 3.8.3 ('base')",
   "language": "python",
   "name": "python3"
  },
  "language_info": {
   "codemirror_mode": {
    "name": "ipython",
    "version": 3
   },
   "file_extension": ".py",
   "mimetype": "text/x-python",
   "name": "python",
   "nbconvert_exporter": "python",
   "pygments_lexer": "ipython3",
   "version": "3.8.5"
  },
  "orig_nbformat": 4,
  "vscode": {
   "interpreter": {
    "hash": "ad2bdc8ecc057115af97d19610ffacc2b4e99fae6737bb82f5d7fb13d2f2c186"
   }
  }
 },
 "nbformat": 4,
 "nbformat_minor": 2
}
