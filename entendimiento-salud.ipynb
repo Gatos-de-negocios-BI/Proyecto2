{
 "cells": [
  {
   "cell_type": "markdown",
   "metadata": {},
   "source": [
    "<h1>Análisis de datos de Salud</h1>"
   ]
  },
  {
   "cell_type": "code",
   "execution_count": 33,
   "metadata": {},
   "outputs": [],
   "source": [
    "import pandas as pd\n",
    "import numpy as np"
   ]
  },
  {
   "cell_type": "code",
   "execution_count": 34,
   "metadata": {},
   "outputs": [
    {
     "name": "stderr",
     "output_type": "stream",
     "text": [
      "C:\\Users\\elpin\\AppData\\Local\\Temp\\ipykernel_18540\\2940956340.py:1: DtypeWarning: Columns (8) have mixed types. Specify dtype option on import or set low_memory=False.\n",
      "  data = pd.read_csv('Datos/salud.csv', sep=';')\n"
     ]
    }
   ],
   "source": [
    "data = pd.read_csv('Datos/salud.csv', sep=';')"
   ]
  },
  {
   "cell_type": "code",
   "execution_count": 35,
   "metadata": {},
   "outputs": [
    {
     "data": {
      "text/plain": [
       "(469609, 13)"
      ]
     },
     "execution_count": 35,
     "metadata": {},
     "output_type": "execute_result"
    }
   ],
   "source": [
    "data.shape"
   ]
  },
  {
   "cell_type": "code",
   "execution_count": 36,
   "metadata": {},
   "outputs": [
    {
     "data": {
      "text/html": [
       "<div>\n",
       "<style scoped>\n",
       "    .dataframe tbody tr th:only-of-type {\n",
       "        vertical-align: middle;\n",
       "    }\n",
       "\n",
       "    .dataframe tbody tr th {\n",
       "        vertical-align: top;\n",
       "    }\n",
       "\n",
       "    .dataframe thead th {\n",
       "        text-align: right;\n",
       "    }\n",
       "</style>\n",
       "<table border=\"1\" class=\"dataframe\">\n",
       "  <thead>\n",
       "    <tr style=\"text-align: right;\">\n",
       "      <th></th>\n",
       "      <th>Código Departamento</th>\n",
       "      <th>Código Entidad</th>\n",
       "      <th>Año</th>\n",
       "      <th>Mes</th>\n",
       "    </tr>\n",
       "  </thead>\n",
       "  <tbody>\n",
       "    <tr>\n",
       "      <th>count</th>\n",
       "      <td>469608.000000</td>\n",
       "      <td>469608.00000</td>\n",
       "      <td>469608.000000</td>\n",
       "      <td>469608.000000</td>\n",
       "    </tr>\n",
       "    <tr>\n",
       "      <th>mean</th>\n",
       "      <td>37.703427</td>\n",
       "      <td>38120.23628</td>\n",
       "      <td>2014.002862</td>\n",
       "      <td>11.920052</td>\n",
       "    </tr>\n",
       "    <tr>\n",
       "      <th>std</th>\n",
       "      <td>26.041534</td>\n",
       "      <td>26013.19904</td>\n",
       "      <td>4.572861</td>\n",
       "      <td>0.271212</td>\n",
       "    </tr>\n",
       "    <tr>\n",
       "      <th>min</th>\n",
       "      <td>1.000000</td>\n",
       "      <td>1001.00000</td>\n",
       "      <td>1998.000000</td>\n",
       "      <td>11.000000</td>\n",
       "    </tr>\n",
       "    <tr>\n",
       "      <th>25%</th>\n",
       "      <td>15.000000</td>\n",
       "      <td>15667.00000</td>\n",
       "      <td>2010.000000</td>\n",
       "      <td>12.000000</td>\n",
       "    </tr>\n",
       "    <tr>\n",
       "      <th>50%</th>\n",
       "      <td>25.000000</td>\n",
       "      <td>25807.00000</td>\n",
       "      <td>2015.000000</td>\n",
       "      <td>12.000000</td>\n",
       "    </tr>\n",
       "    <tr>\n",
       "      <th>75%</th>\n",
       "      <td>66.000000</td>\n",
       "      <td>66000.00000</td>\n",
       "      <td>2018.000000</td>\n",
       "      <td>12.000000</td>\n",
       "    </tr>\n",
       "    <tr>\n",
       "      <th>max</th>\n",
       "      <td>99.000000</td>\n",
       "      <td>99773.00000</td>\n",
       "      <td>2021.000000</td>\n",
       "      <td>12.000000</td>\n",
       "    </tr>\n",
       "  </tbody>\n",
       "</table>\n",
       "</div>"
      ],
      "text/plain": [
       "       Código Departamento  Código Entidad            Año            Mes\n",
       "count        469608.000000    469608.00000  469608.000000  469608.000000\n",
       "mean             37.703427     38120.23628    2014.002862      11.920052\n",
       "std              26.041534     26013.19904       4.572861       0.271212\n",
       "min               1.000000      1001.00000    1998.000000      11.000000\n",
       "25%              15.000000     15667.00000    2010.000000      12.000000\n",
       "50%              25.000000     25807.00000    2015.000000      12.000000\n",
       "75%              66.000000     66000.00000    2018.000000      12.000000\n",
       "max              99.000000     99773.00000    2021.000000      12.000000"
      ]
     },
     "execution_count": 36,
     "metadata": {},
     "output_type": "execute_result"
    }
   ],
   "source": [
    "data.describe()"
   ]
  },
  {
   "cell_type": "code",
   "execution_count": 37,
   "metadata": {},
   "outputs": [
    {
     "data": {
      "text/html": [
       "<div>\n",
       "<style scoped>\n",
       "    .dataframe tbody tr th:only-of-type {\n",
       "        vertical-align: middle;\n",
       "    }\n",
       "\n",
       "    .dataframe tbody tr th {\n",
       "        vertical-align: top;\n",
       "    }\n",
       "\n",
       "    .dataframe thead th {\n",
       "        text-align: right;\n",
       "    }\n",
       "</style>\n",
       "<table border=\"1\" class=\"dataframe\">\n",
       "  <thead>\n",
       "    <tr style=\"text-align: right;\">\n",
       "      <th></th>\n",
       "      <th>Código Departamento</th>\n",
       "      <th>Departamento</th>\n",
       "      <th>Código Entidad</th>\n",
       "      <th>Entidad</th>\n",
       "      <th>Dimensión</th>\n",
       "      <th>Subcategoría</th>\n",
       "      <th>Indicador</th>\n",
       "      <th>Dato Numérico</th>\n",
       "      <th>Dato Cualitativo</th>\n",
       "      <th>Año</th>\n",
       "      <th>Mes</th>\n",
       "      <th>Fuente</th>\n",
       "      <th>Unidad de Medida</th>\n",
       "    </tr>\n",
       "  </thead>\n",
       "  <tbody>\n",
       "    <tr>\n",
       "      <th>0</th>\n",
       "      <td>NaN</td>\n",
       "      <td>NaN</td>\n",
       "      <td>NaN</td>\n",
       "      <td>NaN</td>\n",
       "      <td>NaN</td>\n",
       "      <td>NaN</td>\n",
       "      <td>aaaaaaaaaaaaaaaaaaaaaaaaaaaaaaaaaaaaaaaaaaaaaa...</td>\n",
       "      <td>NaN</td>\n",
       "      <td>NaN</td>\n",
       "      <td>NaN</td>\n",
       "      <td>NaN</td>\n",
       "      <td>aaaaaaaaaaaaaaaaaaaaaaaaaaaaaaaaaaaaaaaaaaaaaa...</td>\n",
       "      <td>NaN</td>\n",
       "    </tr>\n",
       "    <tr>\n",
       "      <th>1</th>\n",
       "      <td>1.0</td>\n",
       "      <td>Colombia</td>\n",
       "      <td>1001.0</td>\n",
       "      <td>Colombia</td>\n",
       "      <td>Salud</td>\n",
       "      <td>Aseguramiento</td>\n",
       "      <td>Afiliados al régimen contributivo</td>\n",
       "      <td>19.957.739,00</td>\n",
       "      <td>NaN</td>\n",
       "      <td>2012.0</td>\n",
       "      <td>12.0</td>\n",
       "      <td>Ministerio de Salud y Protección Social</td>\n",
       "      <td>Personas</td>\n",
       "    </tr>\n",
       "    <tr>\n",
       "      <th>2</th>\n",
       "      <td>5.0</td>\n",
       "      <td>Antioquia</td>\n",
       "      <td>5000.0</td>\n",
       "      <td>Antioquia</td>\n",
       "      <td>Salud</td>\n",
       "      <td>Aseguramiento</td>\n",
       "      <td>Afiliados al régimen contributivo</td>\n",
       "      <td>3.220.651,00</td>\n",
       "      <td>NaN</td>\n",
       "      <td>2012.0</td>\n",
       "      <td>12.0</td>\n",
       "      <td>Ministerio de Salud y Protección Social</td>\n",
       "      <td>Personas</td>\n",
       "    </tr>\n",
       "    <tr>\n",
       "      <th>3</th>\n",
       "      <td>5.0</td>\n",
       "      <td>Antioquia</td>\n",
       "      <td>5001.0</td>\n",
       "      <td>Medellín</td>\n",
       "      <td>Salud</td>\n",
       "      <td>Aseguramiento</td>\n",
       "      <td>Afiliados al régimen contributivo</td>\n",
       "      <td>1.673.771,00</td>\n",
       "      <td>NaN</td>\n",
       "      <td>2012.0</td>\n",
       "      <td>12.0</td>\n",
       "      <td>Ministerio de Salud y Protección Social</td>\n",
       "      <td>Personas</td>\n",
       "    </tr>\n",
       "    <tr>\n",
       "      <th>4</th>\n",
       "      <td>5.0</td>\n",
       "      <td>Antioquia</td>\n",
       "      <td>5002.0</td>\n",
       "      <td>Abejorral</td>\n",
       "      <td>Salud</td>\n",
       "      <td>Aseguramiento</td>\n",
       "      <td>Afiliados al régimen contributivo</td>\n",
       "      <td>2.514,00</td>\n",
       "      <td>NaN</td>\n",
       "      <td>2012.0</td>\n",
       "      <td>12.0</td>\n",
       "      <td>Ministerio de Salud y Protección Social</td>\n",
       "      <td>Personas</td>\n",
       "    </tr>\n",
       "  </tbody>\n",
       "</table>\n",
       "</div>"
      ],
      "text/plain": [
       "   Código Departamento Departamento  Código Entidad    Entidad Dimensión  \\\n",
       "0                  NaN          NaN             NaN        NaN       NaN   \n",
       "1                  1.0     Colombia          1001.0   Colombia     Salud   \n",
       "2                  5.0    Antioquia          5000.0  Antioquia     Salud   \n",
       "3                  5.0    Antioquia          5001.0   Medellín     Salud   \n",
       "4                  5.0    Antioquia          5002.0  Abejorral     Salud   \n",
       "\n",
       "    Subcategoría                                          Indicador  \\\n",
       "0            NaN  aaaaaaaaaaaaaaaaaaaaaaaaaaaaaaaaaaaaaaaaaaaaaa...   \n",
       "1  Aseguramiento                  Afiliados al régimen contributivo   \n",
       "2  Aseguramiento                  Afiliados al régimen contributivo   \n",
       "3  Aseguramiento                  Afiliados al régimen contributivo   \n",
       "4  Aseguramiento                  Afiliados al régimen contributivo   \n",
       "\n",
       "   Dato Numérico Dato Cualitativo     Año   Mes  \\\n",
       "0            NaN              NaN     NaN   NaN   \n",
       "1  19.957.739,00              NaN  2012.0  12.0   \n",
       "2   3.220.651,00              NaN  2012.0  12.0   \n",
       "3   1.673.771,00              NaN  2012.0  12.0   \n",
       "4       2.514,00              NaN  2012.0  12.0   \n",
       "\n",
       "                                              Fuente Unidad de Medida  \n",
       "0  aaaaaaaaaaaaaaaaaaaaaaaaaaaaaaaaaaaaaaaaaaaaaa...              NaN  \n",
       "1            Ministerio de Salud y Protección Social         Personas  \n",
       "2            Ministerio de Salud y Protección Social         Personas  \n",
       "3            Ministerio de Salud y Protección Social         Personas  \n",
       "4            Ministerio de Salud y Protección Social         Personas  "
      ]
     },
     "execution_count": 37,
     "metadata": {},
     "output_type": "execute_result"
    }
   ],
   "source": [
    "data.head()"
   ]
  },
  {
   "cell_type": "code",
   "execution_count": 38,
   "metadata": {},
   "outputs": [
    {
     "data": {
      "text/plain": [
       "Código Departamento         1\n",
       "Departamento                1\n",
       "Código Entidad              1\n",
       "Entidad                     1\n",
       "Dimensión                   1\n",
       "Subcategoría                1\n",
       "Indicador                   0\n",
       "Dato Numérico           76120\n",
       "Dato Cualitativo       469608\n",
       "Año                         1\n",
       "Mes                         1\n",
       "Fuente                      0\n",
       "Unidad de Medida            1\n",
       "dtype: int64"
      ]
     },
     "execution_count": 38,
     "metadata": {},
     "output_type": "execute_result"
    }
   ],
   "source": [
    "data.isnull().sum()"
   ]
  },
  {
   "cell_type": "code",
   "execution_count": 39,
   "metadata": {},
   "outputs": [],
   "source": [
    "data['Dato Cualitativo'].fillna('n/a', inplace=True)"
   ]
  },
  {
   "cell_type": "code",
   "execution_count": 40,
   "metadata": {},
   "outputs": [],
   "source": [
    "data = data.dropna()"
   ]
  },
  {
   "cell_type": "code",
   "execution_count": 41,
   "metadata": {},
   "outputs": [
    {
     "name": "stderr",
     "output_type": "stream",
     "text": [
      "C:\\Users\\elpin\\AppData\\Local\\Temp\\ipykernel_18540\\3684333492.py:1: FutureWarning: The default value of regex will change from True to False in a future version. In addition, single character regular expressions will *not* be treated as literal strings when regex=True.\n",
      "  data['Dato Numérico'] = data['Dato Numérico'].str.replace('.', '')\n"
     ]
    }
   ],
   "source": [
    "data['Dato Numérico'] = data['Dato Numérico'].str.replace('.', '')"
   ]
  },
  {
   "cell_type": "code",
   "execution_count": 42,
   "metadata": {},
   "outputs": [],
   "source": [
    "data['Dato Numérico'] = data['Dato Numérico'].str.replace(',00',',0')"
   ]
  },
  {
   "cell_type": "code",
   "execution_count": 43,
   "metadata": {},
   "outputs": [],
   "source": [
    "data['Dato Numérico'] = data['Dato Numérico'].str.replace(',', '.')"
   ]
  },
  {
   "cell_type": "code",
   "execution_count": 44,
   "metadata": {},
   "outputs": [],
   "source": [
    "data['Dato Numérico'] = data['Dato Numérico'].astype('float')"
   ]
  },
  {
   "cell_type": "code",
   "execution_count": 45,
   "metadata": {},
   "outputs": [
    {
     "data": {
      "text/plain": [
       "Código Departamento    0\n",
       "Departamento           0\n",
       "Código Entidad         0\n",
       "Entidad                0\n",
       "Dimensión              0\n",
       "Subcategoría           0\n",
       "Indicador              0\n",
       "Dato Numérico          0\n",
       "Dato Cualitativo       0\n",
       "Año                    0\n",
       "Mes                    0\n",
       "Fuente                 0\n",
       "Unidad de Medida       0\n",
       "dtype: int64"
      ]
     },
     "execution_count": 45,
     "metadata": {},
     "output_type": "execute_result"
    }
   ],
   "source": [
    "data.isnull().sum()"
   ]
  },
  {
   "cell_type": "code",
   "execution_count": 46,
   "metadata": {},
   "outputs": [
    {
     "data": {
      "text/plain": [
       "(393489, 13)"
      ]
     },
     "execution_count": 46,
     "metadata": {},
     "output_type": "execute_result"
    }
   ],
   "source": [
    "data.shape"
   ]
  },
  {
   "cell_type": "code",
   "execution_count": 48,
   "metadata": {},
   "outputs": [
    {
     "data": {
      "text/plain": [
       "Promedio de controles prenatales                                                                 18133\n",
       "Porcentaje de nacidos vivos con 4 o más consultas de control prenatal                            18132\n",
       "Porcentaje de nacidos vivos hijos de mujeres de 18 a 26 años                                     18130\n",
       "Cobertura vacunación pentavalente en menores de 1 año                                            18129\n",
       "Tasa de mortalidad (x cada 1.000 habitantes)                                                     18128\n",
       "Tasa de fecundidad específica en mujeres de 10 a 19 años                                         18100\n",
       "Porcentaje de nacidos vivos hijos de mujeres de 14 a 17 años                                     17961\n",
       "Porcentaje de nacidos vivos con bajo peso al nacer                                               17679\n",
       "Tasa de mortalidad infantil en menores de 1 año (x cada 1.000 nacidos vivos)                     17180\n",
       "Tasa de mortalidad neonatal                                                                      17132\n",
       "Tasa de mortalidad infantil en menores de 5 años                                                 14955\n",
       "Tasa de fecundidad específica en mujeres de 10 a 14 años                                         13920\n",
       "Cobertura del régimen subsidiado                                                                 12368\n",
       "Afiliados al régimen subsidado                                                                   11340\n",
       "Afiliados a regímenes especiales                                                                 11340\n",
       "Afiliados al régimen contributivo                                                                11340\n",
       "Afiliados al SGSSS                                                                               10206\n",
       "Cobertuna de vacunación triple viral                                                              9105\n",
       "Porcentaje de nacidos vivos hijos de mujeres menores de 14 años                                   8813\n",
       "Tasa de fecundidad (x cada 1.000 mujeres en edad fértil)                                          7938\n",
       "Tasa de negligencia y abandono                                                                    7714\n",
       "Mujeres con suministro de métodos de anticoncepción                                               7248\n",
       "Mortalidad en menores de 5 años por infección respiratoria aguda (IRA)                            5718\n",
       "Cobertura de vacunación DPT                                                                       5703\n",
       "Tasa de fecundidad en mujeres entre 15 y 19 años                                                  5668\n",
       "Incidencia del dengue                                                                             5667\n",
       "Razón de mortalidad materna a 42 días                                                             5585\n",
       "Incidencia de la tuberculosis                                                                     5011\n",
       "Tasa ajustada de mortalidad por lesiones autoinfligidas intencionalmente (suicidios) - Mujer      4536\n",
       "Tasa ajustada de mortalidad por lesiones autoinfligidas intencionalmente (suicidios)              4536\n",
       "Tasa ajustada de mortalidad por lesiones autoinfligidas intencionalmente (suicidios) - Hombre     4535\n",
       "Tasa ajustada de mortalidad por tumor maligno de la mama de la mujer                              4534\n",
       "Tasa ajustada de mortalidad por tumor maligno de la próstata                                      4534\n",
       "Tasa ajustada de mortalidad por tumor maligno del cuello del útero                                4534\n",
       "Tasa ajustada de mortalidad por accidentes de transporte terrestre - Mujeres                      4533\n",
       "Tasa ajustada de mortalidad por accidentes de transporte terrestre - Hombres                      4533\n",
       "Tasa ajustada de mortalidad por accidentes de transporte terrestre                                4523\n",
       "Mortalidad por desnutrición en menores de 5 años                                                  3765\n",
       "Mortalidad en menores de 5 años por enfermedad diarréica aguda (EDA)                              3645\n",
       "Población pobre no atendida - PPNA                                                                2261\n",
       "Incidencia del VIH                                                                                1134\n",
       "Incidencia del VIH - Hombre                                                                       1134\n",
       "Incidencia del VIH - Mujer                                                                        1134\n",
       "Motalidad asociada a VIH / SIDA                                                                    750\n",
       "Personas con discapacidad                                                                          165\n",
       "Tasa de mortalidad prematura por diabetes mellitus                                                 132\n",
       "Tasa de mortalidad prematura por enfermedades del sistema circulatorio                             132\n",
       "Incidencia de enfermedad de chagas                                                                  96\n",
       "Name: Indicador, dtype: int64"
      ]
     },
     "execution_count": 48,
     "metadata": {},
     "output_type": "execute_result"
    }
   ],
   "source": [
    "data['Indicador'].value_counts()"
   ]
  },
  {
   "cell_type": "code",
   "execution_count": 47,
   "metadata": {},
   "outputs": [],
   "source": [
    "data.to_csv('Datos/salud_limpio.csv', sep=';', index=False, decimal='.')"
   ]
  }
 ],
 "metadata": {
  "kernelspec": {
   "display_name": "Python 3.8.3 ('base')",
   "language": "python",
   "name": "python3"
  },
  "language_info": {
   "codemirror_mode": {
    "name": "ipython",
    "version": 3
   },
   "file_extension": ".py",
   "mimetype": "text/x-python",
   "name": "python",
   "nbconvert_exporter": "python",
   "pygments_lexer": "ipython3",
   "version": "3.8.5"
  },
  "orig_nbformat": 4,
  "vscode": {
   "interpreter": {
    "hash": "ad2bdc8ecc057115af97d19610ffacc2b4e99fae6737bb82f5d7fb13d2f2c186"
   }
  }
 },
 "nbformat": 4,
 "nbformat_minor": 2
}
