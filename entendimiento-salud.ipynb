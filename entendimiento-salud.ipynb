{
 "cells": [
  {
   "cell_type": "markdown",
   "metadata": {},
   "source": [
    "<h1>Análisis de datos de Salud</h1>"
   ]
  },
  {
   "cell_type": "code",
   "execution_count": 23,
   "metadata": {},
   "outputs": [],
   "source": [
    "import pandas as pd\n",
    "import numpy as np"
   ]
  },
  {
   "cell_type": "code",
   "execution_count": 24,
   "metadata": {},
   "outputs": [
    {
     "name": "stderr",
     "output_type": "stream",
     "text": [
      "C:\\Users\\camil\\AppData\\Local\\Temp\\ipykernel_18552\\4012828647.py:1: DtypeWarning: Columns (7) have mixed types. Specify dtype option on import or set low_memory=False.\n",
      "  data = pd.read_csv('Datos\\Salud.csv', delimiter=';', decimal=',')\n"
     ]
    }
   ],
   "source": [
    "data = pd.read_csv('Datos\\Salud.csv', delimiter=';', decimal=',')"
   ]
  },
  {
   "cell_type": "code",
   "execution_count": 25,
   "metadata": {},
   "outputs": [
    {
     "data": {
      "text/plain": [
       "(411259, 13)"
      ]
     },
     "execution_count": 25,
     "metadata": {},
     "output_type": "execute_result"
    }
   ],
   "source": [
    "data.shape"
   ]
  },
  {
   "cell_type": "code",
   "execution_count": 26,
   "metadata": {},
   "outputs": [
    {
     "data": {
      "text/html": [
       "<div>\n",
       "<style scoped>\n",
       "    .dataframe tbody tr th:only-of-type {\n",
       "        vertical-align: middle;\n",
       "    }\n",
       "\n",
       "    .dataframe tbody tr th {\n",
       "        vertical-align: top;\n",
       "    }\n",
       "\n",
       "    .dataframe thead th {\n",
       "        text-align: right;\n",
       "    }\n",
       "</style>\n",
       "<table border=\"1\" class=\"dataframe\">\n",
       "  <thead>\n",
       "    <tr style=\"text-align: right;\">\n",
       "      <th></th>\n",
       "      <th>Código Departamento</th>\n",
       "      <th>Código Entidad</th>\n",
       "      <th>Dato Cualitativo</th>\n",
       "      <th>Año</th>\n",
       "      <th>Mes</th>\n",
       "    </tr>\n",
       "  </thead>\n",
       "  <tbody>\n",
       "    <tr>\n",
       "      <th>count</th>\n",
       "      <td>411258.000000</td>\n",
       "      <td>411258.000000</td>\n",
       "      <td>0.0</td>\n",
       "      <td>411258.000000</td>\n",
       "      <td>411258.000000</td>\n",
       "    </tr>\n",
       "    <tr>\n",
       "      <th>mean</th>\n",
       "      <td>37.693545</td>\n",
       "      <td>38110.612474</td>\n",
       "      <td>NaN</td>\n",
       "      <td>2013.144826</td>\n",
       "      <td>11.908709</td>\n",
       "    </tr>\n",
       "    <tr>\n",
       "      <th>std</th>\n",
       "      <td>26.035873</td>\n",
       "      <td>26007.655196</td>\n",
       "      <td>NaN</td>\n",
       "      <td>4.251368</td>\n",
       "      <td>0.288022</td>\n",
       "    </tr>\n",
       "    <tr>\n",
       "      <th>min</th>\n",
       "      <td>1.000000</td>\n",
       "      <td>1001.000000</td>\n",
       "      <td>NaN</td>\n",
       "      <td>1998.000000</td>\n",
       "      <td>11.000000</td>\n",
       "    </tr>\n",
       "    <tr>\n",
       "      <th>25%</th>\n",
       "      <td>15.000000</td>\n",
       "      <td>15667.000000</td>\n",
       "      <td>NaN</td>\n",
       "      <td>2010.000000</td>\n",
       "      <td>12.000000</td>\n",
       "    </tr>\n",
       "    <tr>\n",
       "      <th>50%</th>\n",
       "      <td>25.000000</td>\n",
       "      <td>25807.000000</td>\n",
       "      <td>NaN</td>\n",
       "      <td>2014.000000</td>\n",
       "      <td>12.000000</td>\n",
       "    </tr>\n",
       "    <tr>\n",
       "      <th>75%</th>\n",
       "      <td>66.000000</td>\n",
       "      <td>66000.000000</td>\n",
       "      <td>NaN</td>\n",
       "      <td>2017.000000</td>\n",
       "      <td>12.000000</td>\n",
       "    </tr>\n",
       "    <tr>\n",
       "      <th>max</th>\n",
       "      <td>99.000000</td>\n",
       "      <td>99773.000000</td>\n",
       "      <td>NaN</td>\n",
       "      <td>2020.000000</td>\n",
       "      <td>12.000000</td>\n",
       "    </tr>\n",
       "  </tbody>\n",
       "</table>\n",
       "</div>"
      ],
      "text/plain": [
       "       Código Departamento  Código Entidad  Dato Cualitativo            Año  \\\n",
       "count        411258.000000   411258.000000               0.0  411258.000000   \n",
       "mean             37.693545    38110.612474               NaN    2013.144826   \n",
       "std              26.035873    26007.655196               NaN       4.251368   \n",
       "min               1.000000     1001.000000               NaN    1998.000000   \n",
       "25%              15.000000    15667.000000               NaN    2010.000000   \n",
       "50%              25.000000    25807.000000               NaN    2014.000000   \n",
       "75%              66.000000    66000.000000               NaN    2017.000000   \n",
       "max              99.000000    99773.000000               NaN    2020.000000   \n",
       "\n",
       "                 Mes  \n",
       "count  411258.000000  \n",
       "mean       11.908709  \n",
       "std         0.288022  \n",
       "min        11.000000  \n",
       "25%        12.000000  \n",
       "50%        12.000000  \n",
       "75%        12.000000  \n",
       "max        12.000000  "
      ]
     },
     "execution_count": 26,
     "metadata": {},
     "output_type": "execute_result"
    }
   ],
   "source": [
    "data.describe()"
   ]
  },
  {
   "cell_type": "code",
   "execution_count": 27,
   "metadata": {},
   "outputs": [
    {
     "data": {
      "text/html": [
       "<div>\n",
       "<style scoped>\n",
       "    .dataframe tbody tr th:only-of-type {\n",
       "        vertical-align: middle;\n",
       "    }\n",
       "\n",
       "    .dataframe tbody tr th {\n",
       "        vertical-align: top;\n",
       "    }\n",
       "\n",
       "    .dataframe thead th {\n",
       "        text-align: right;\n",
       "    }\n",
       "</style>\n",
       "<table border=\"1\" class=\"dataframe\">\n",
       "  <thead>\n",
       "    <tr style=\"text-align: right;\">\n",
       "      <th></th>\n",
       "      <th>Código Departamento</th>\n",
       "      <th>Departamento</th>\n",
       "      <th>Código Entidad</th>\n",
       "      <th>Entidad</th>\n",
       "      <th>Dimensión</th>\n",
       "      <th>Subcategoría</th>\n",
       "      <th>Indicador</th>\n",
       "      <th>Dato Numérico</th>\n",
       "      <th>Dato Cualitativo</th>\n",
       "      <th>Año</th>\n",
       "      <th>Mes</th>\n",
       "      <th>Fuente</th>\n",
       "      <th>Unidad de Medida</th>\n",
       "    </tr>\n",
       "  </thead>\n",
       "  <tbody>\n",
       "    <tr>\n",
       "      <th>0</th>\n",
       "      <td>NaN</td>\n",
       "      <td>NaN</td>\n",
       "      <td>NaN</td>\n",
       "      <td>NaN</td>\n",
       "      <td>NaN</td>\n",
       "      <td>NaN</td>\n",
       "      <td>aaaaaaaaaaaaaaaaaaaaaaaaaaaaaaaaaaaaaaaaaaaaaa...</td>\n",
       "      <td>NaN</td>\n",
       "      <td>NaN</td>\n",
       "      <td>NaN</td>\n",
       "      <td>NaN</td>\n",
       "      <td>aaaaaaaaaaaaaaaaaaaaaaaaaaaaaaaaaaaaaaaaaaaaaa...</td>\n",
       "      <td>NaN</td>\n",
       "    </tr>\n",
       "    <tr>\n",
       "      <th>1</th>\n",
       "      <td>1.0</td>\n",
       "      <td>Colombia</td>\n",
       "      <td>1001.0</td>\n",
       "      <td>Colombia</td>\n",
       "      <td>Salud</td>\n",
       "      <td>Aseguramiento</td>\n",
       "      <td>Afiliados al régimen contributivo</td>\n",
       "      <td>19.957.739,00</td>\n",
       "      <td>NaN</td>\n",
       "      <td>2012.0</td>\n",
       "      <td>12.0</td>\n",
       "      <td>Ministerio de Salud y Protección Social</td>\n",
       "      <td>Personas</td>\n",
       "    </tr>\n",
       "    <tr>\n",
       "      <th>2</th>\n",
       "      <td>5.0</td>\n",
       "      <td>Antioquia</td>\n",
       "      <td>5000.0</td>\n",
       "      <td>Antioquia</td>\n",
       "      <td>Salud</td>\n",
       "      <td>Aseguramiento</td>\n",
       "      <td>Afiliados al régimen contributivo</td>\n",
       "      <td>3.220.651,00</td>\n",
       "      <td>NaN</td>\n",
       "      <td>2012.0</td>\n",
       "      <td>12.0</td>\n",
       "      <td>Ministerio de Salud y Protección Social</td>\n",
       "      <td>Personas</td>\n",
       "    </tr>\n",
       "    <tr>\n",
       "      <th>3</th>\n",
       "      <td>5.0</td>\n",
       "      <td>Antioquia</td>\n",
       "      <td>5001.0</td>\n",
       "      <td>Medellín</td>\n",
       "      <td>Salud</td>\n",
       "      <td>Aseguramiento</td>\n",
       "      <td>Afiliados al régimen contributivo</td>\n",
       "      <td>1.673.771,00</td>\n",
       "      <td>NaN</td>\n",
       "      <td>2012.0</td>\n",
       "      <td>12.0</td>\n",
       "      <td>Ministerio de Salud y Protección Social</td>\n",
       "      <td>Personas</td>\n",
       "    </tr>\n",
       "    <tr>\n",
       "      <th>4</th>\n",
       "      <td>5.0</td>\n",
       "      <td>Antioquia</td>\n",
       "      <td>5002.0</td>\n",
       "      <td>Abejorral</td>\n",
       "      <td>Salud</td>\n",
       "      <td>Aseguramiento</td>\n",
       "      <td>Afiliados al régimen contributivo</td>\n",
       "      <td>2.514,00</td>\n",
       "      <td>NaN</td>\n",
       "      <td>2012.0</td>\n",
       "      <td>12.0</td>\n",
       "      <td>Ministerio de Salud y Protección Social</td>\n",
       "      <td>Personas</td>\n",
       "    </tr>\n",
       "  </tbody>\n",
       "</table>\n",
       "</div>"
      ],
      "text/plain": [
       "   Código Departamento Departamento  Código Entidad    Entidad Dimensión  \\\n",
       "0                  NaN          NaN             NaN        NaN       NaN   \n",
       "1                  1.0     Colombia          1001.0   Colombia     Salud   \n",
       "2                  5.0    Antioquia          5000.0  Antioquia     Salud   \n",
       "3                  5.0    Antioquia          5001.0   Medellín     Salud   \n",
       "4                  5.0    Antioquia          5002.0  Abejorral     Salud   \n",
       "\n",
       "    Subcategoría                                          Indicador  \\\n",
       "0            NaN  aaaaaaaaaaaaaaaaaaaaaaaaaaaaaaaaaaaaaaaaaaaaaa...   \n",
       "1  Aseguramiento                  Afiliados al régimen contributivo   \n",
       "2  Aseguramiento                  Afiliados al régimen contributivo   \n",
       "3  Aseguramiento                  Afiliados al régimen contributivo   \n",
       "4  Aseguramiento                  Afiliados al régimen contributivo   \n",
       "\n",
       "   Dato Numérico  Dato Cualitativo     Año   Mes  \\\n",
       "0            NaN               NaN     NaN   NaN   \n",
       "1  19.957.739,00               NaN  2012.0  12.0   \n",
       "2   3.220.651,00               NaN  2012.0  12.0   \n",
       "3   1.673.771,00               NaN  2012.0  12.0   \n",
       "4       2.514,00               NaN  2012.0  12.0   \n",
       "\n",
       "                                              Fuente Unidad de Medida  \n",
       "0  aaaaaaaaaaaaaaaaaaaaaaaaaaaaaaaaaaaaaaaaaaaaaa...              NaN  \n",
       "1            Ministerio de Salud y Protección Social         Personas  \n",
       "2            Ministerio de Salud y Protección Social         Personas  \n",
       "3            Ministerio de Salud y Protección Social         Personas  \n",
       "4            Ministerio de Salud y Protección Social         Personas  "
      ]
     },
     "execution_count": 27,
     "metadata": {},
     "output_type": "execute_result"
    }
   ],
   "source": [
    "data.head()"
   ]
  },
  {
   "cell_type": "code",
   "execution_count": 28,
   "metadata": {},
   "outputs": [
    {
     "data": {
      "text/plain": [
       "Código Departamento    float64\n",
       "Departamento            object\n",
       "Código Entidad         float64\n",
       "Entidad                 object\n",
       "Dimensión               object\n",
       "Subcategoría            object\n",
       "Indicador               object\n",
       "Dato Numérico           object\n",
       "Dato Cualitativo       float64\n",
       "Año                    float64\n",
       "Mes                    float64\n",
       "Fuente                  object\n",
       "Unidad de Medida        object\n",
       "dtype: object"
      ]
     },
     "execution_count": 28,
     "metadata": {},
     "output_type": "execute_result"
    }
   ],
   "source": [
    "data.dtypes"
   ]
  },
  {
   "cell_type": "code",
   "execution_count": 29,
   "metadata": {},
   "outputs": [
    {
     "data": {
      "text/plain": [
       "Código Departamento    0.000002\n",
       "Departamento           0.000002\n",
       "Código Entidad         0.000002\n",
       "Entidad                0.000002\n",
       "Dimensión              0.000002\n",
       "Subcategoría           0.000002\n",
       "Indicador              0.000000\n",
       "Dato Numérico          0.192718\n",
       "Dato Cualitativo       1.000000\n",
       "Año                    0.000002\n",
       "Mes                    0.000002\n",
       "Fuente                 0.000000\n",
       "Unidad de Medida       0.000002\n",
       "dtype: float64"
      ]
     },
     "execution_count": 29,
     "metadata": {},
     "output_type": "execute_result"
    }
   ],
   "source": [
    "data.isnull().mean()"
   ]
  },
  {
   "cell_type": "code",
   "execution_count": 30,
   "metadata": {},
   "outputs": [],
   "source": [
    "data = data.drop(data.index[0])"
   ]
  },
  {
   "cell_type": "code",
   "execution_count": 31,
   "metadata": {},
   "outputs": [],
   "source": [
    "data = data.drop('Dato Cualitativo', axis=1)"
   ]
  },
  {
   "cell_type": "code",
   "execution_count": 32,
   "metadata": {},
   "outputs": [],
   "source": [
    "data = data.dropna(how='any', axis=0)"
   ]
  },
  {
   "cell_type": "code",
   "execution_count": 33,
   "metadata": {},
   "outputs": [
    {
     "data": {
      "text/plain": [
       "Código Departamento    0.0\n",
       "Departamento           0.0\n",
       "Código Entidad         0.0\n",
       "Entidad                0.0\n",
       "Dimensión              0.0\n",
       "Subcategoría           0.0\n",
       "Indicador              0.0\n",
       "Dato Numérico          0.0\n",
       "Año                    0.0\n",
       "Mes                    0.0\n",
       "Fuente                 0.0\n",
       "Unidad de Medida       0.0\n",
       "dtype: float64"
      ]
     },
     "execution_count": 33,
     "metadata": {},
     "output_type": "execute_result"
    }
   ],
   "source": [
    "data.isnull().mean()"
   ]
  },
  {
   "cell_type": "code",
   "execution_count": 34,
   "metadata": {},
   "outputs": [
    {
     "name": "stderr",
     "output_type": "stream",
     "text": [
      "C:\\Users\\camil\\AppData\\Local\\Temp\\ipykernel_18552\\3510602877.py:1: FutureWarning: The default value of regex will change from True to False in a future version. In addition, single character regular expressions will *not* be treated as literal strings when regex=True.\n",
      "  data['Dato Numérico'] = data['Dato Numérico'].str.replace('.','')\n"
     ]
    }
   ],
   "source": [
    "data['Dato Numérico'] = data['Dato Numérico'].str.replace('.','')"
   ]
  },
  {
   "cell_type": "code",
   "execution_count": 35,
   "metadata": {},
   "outputs": [],
   "source": [
    "data['Dato Numérico'] = data['Dato Numérico'].str.replace(',','.')"
   ]
  },
  {
   "cell_type": "code",
   "execution_count": 36,
   "metadata": {},
   "outputs": [],
   "source": [
    "data['Dato Numérico'] = data['Dato Numérico'].astype('float')"
   ]
  },
  {
   "cell_type": "code",
   "execution_count": 37,
   "metadata": {},
   "outputs": [
    {
     "data": {
      "text/plain": [
       "(332002, 12)"
      ]
     },
     "execution_count": 37,
     "metadata": {},
     "output_type": "execute_result"
    }
   ],
   "source": [
    "data.shape"
   ]
  },
  {
   "cell_type": "code",
   "execution_count": 38,
   "metadata": {},
   "outputs": [
    {
     "data": {
      "text/html": [
       "<div>\n",
       "<style scoped>\n",
       "    .dataframe tbody tr th:only-of-type {\n",
       "        vertical-align: middle;\n",
       "    }\n",
       "\n",
       "    .dataframe tbody tr th {\n",
       "        vertical-align: top;\n",
       "    }\n",
       "\n",
       "    .dataframe thead th {\n",
       "        text-align: right;\n",
       "    }\n",
       "</style>\n",
       "<table border=\"1\" class=\"dataframe\">\n",
       "  <thead>\n",
       "    <tr style=\"text-align: right;\">\n",
       "      <th></th>\n",
       "      <th>Código Departamento</th>\n",
       "      <th>Código Entidad</th>\n",
       "      <th>Dato Numérico</th>\n",
       "      <th>Año</th>\n",
       "      <th>Mes</th>\n",
       "    </tr>\n",
       "  </thead>\n",
       "  <tbody>\n",
       "    <tr>\n",
       "      <th>count</th>\n",
       "      <td>332002.000000</td>\n",
       "      <td>332002.000000</td>\n",
       "      <td>2.155140e+05</td>\n",
       "      <td>332002.000000</td>\n",
       "      <td>332002.000000</td>\n",
       "    </tr>\n",
       "    <tr>\n",
       "      <th>mean</th>\n",
       "      <td>37.858670</td>\n",
       "      <td>38271.323576</td>\n",
       "      <td>1.029101e+04</td>\n",
       "      <td>2013.332468</td>\n",
       "      <td>11.889166</td>\n",
       "    </tr>\n",
       "    <tr>\n",
       "      <th>std</th>\n",
       "      <td>26.155483</td>\n",
       "      <td>26126.713940</td>\n",
       "      <td>3.544285e+05</td>\n",
       "      <td>4.268398</td>\n",
       "      <td>0.313927</td>\n",
       "    </tr>\n",
       "    <tr>\n",
       "      <th>min</th>\n",
       "      <td>1.000000</td>\n",
       "      <td>1001.000000</td>\n",
       "      <td>0.000000e+00</td>\n",
       "      <td>1998.000000</td>\n",
       "      <td>11.000000</td>\n",
       "    </tr>\n",
       "    <tr>\n",
       "      <th>25%</th>\n",
       "      <td>15.000000</td>\n",
       "      <td>15686.000000</td>\n",
       "      <td>6.890000e+00</td>\n",
       "      <td>2010.000000</td>\n",
       "      <td>12.000000</td>\n",
       "    </tr>\n",
       "    <tr>\n",
       "      <th>50%</th>\n",
       "      <td>25.000000</td>\n",
       "      <td>25839.000000</td>\n",
       "      <td>2.847000e+01</td>\n",
       "      <td>2014.000000</td>\n",
       "      <td>12.000000</td>\n",
       "    </tr>\n",
       "    <tr>\n",
       "      <th>75%</th>\n",
       "      <td>66.000000</td>\n",
       "      <td>66001.000000</td>\n",
       "      <td>9.848000e+01</td>\n",
       "      <td>2017.000000</td>\n",
       "      <td>12.000000</td>\n",
       "    </tr>\n",
       "    <tr>\n",
       "      <th>max</th>\n",
       "      <td>99.000000</td>\n",
       "      <td>99773.000000</td>\n",
       "      <td>4.705682e+07</td>\n",
       "      <td>2020.000000</td>\n",
       "      <td>12.000000</td>\n",
       "    </tr>\n",
       "  </tbody>\n",
       "</table>\n",
       "</div>"
      ],
      "text/plain": [
       "       Código Departamento  Código Entidad  Dato Numérico            Año  \\\n",
       "count        332002.000000   332002.000000   2.155140e+05  332002.000000   \n",
       "mean             37.858670    38271.323576   1.029101e+04    2013.332468   \n",
       "std              26.155483    26126.713940   3.544285e+05       4.268398   \n",
       "min               1.000000     1001.000000   0.000000e+00    1998.000000   \n",
       "25%              15.000000    15686.000000   6.890000e+00    2010.000000   \n",
       "50%              25.000000    25839.000000   2.847000e+01    2014.000000   \n",
       "75%              66.000000    66001.000000   9.848000e+01    2017.000000   \n",
       "max              99.000000    99773.000000   4.705682e+07    2020.000000   \n",
       "\n",
       "                 Mes  \n",
       "count  332002.000000  \n",
       "mean       11.889166  \n",
       "std         0.313927  \n",
       "min        11.000000  \n",
       "25%        12.000000  \n",
       "50%        12.000000  \n",
       "75%        12.000000  \n",
       "max        12.000000  "
      ]
     },
     "execution_count": 38,
     "metadata": {},
     "output_type": "execute_result"
    }
   ],
   "source": [
    "data.describe()"
   ]
  },
  {
   "cell_type": "code",
   "execution_count": 39,
   "metadata": {},
   "outputs": [],
   "source": [
    "data['salud_key'] = range(1, len(data) + 1)"
   ]
  },
  {
   "cell_type": "code",
   "execution_count": 40,
   "metadata": {},
   "outputs": [
    {
     "data": {
      "image/png": "[encoded data removed]",
      "text/plain": [
       "<Figure size 1000x500 with 1 Axes>"
      ]
     },
     "metadata": {},
     "output_type": "display_data"
    }
   ],
   "source": [
    "import matplotlib.pyplot as plt\n",
    "import seaborn as sns\n",
    "\n",
    "plt.figure(figsize=(10,5))\n",
    "sns.barplot(x='Año', y='Dato Numérico', data=data)\n",
    "plt.show()"
   ]
  },
  {
   "cell_type": "code",
   "execution_count": 41,
   "metadata": {},
   "outputs": [],
   "source": [
    "from sklearn.preprocessing import MinMaxScaler\n",
    "import numpy as np\n",
    "  \n",
    "# apply normalization techniques\n",
    "column = 'Dato Numérico'\n",
    "data[column] = MinMaxScaler().fit_transform(np.array(data[column]).reshape(-1,1))"
   ]
  },
  {
   "cell_type": "code",
   "execution_count": 42,
   "metadata": {},
   "outputs": [
    {
     "data": {
      "image/png": "[encoded data removed]",
      "text/plain": [
       "<Figure size 1000x500 with 1 Axes>"
      ]
     },
     "metadata": {},
     "output_type": "display_data"
    }
   ],
   "source": [
    "import matplotlib.pyplot as plt\n",
    "import seaborn as sns\n",
    "\n",
    "plt.figure(figsize=(10,5))\n",
    "sns.barplot(x='Año', y='Dato Numérico', data=data)\n",
    "plt.show()"
   ]
  },
  {
   "cell_type": "code",
   "execution_count": 43,
   "metadata": {},
   "outputs": [],
   "source": [
    "data.to_csv('Datos/Salud_limpio.csv', index=False, decimal='.', sep=';')"
   ]
  }
 ],
 "metadata": {
  "kernelspec": {
   "display_name": "Python 3.8.3 ('base')",
   "language": "python",
   "name": "python3"
  },
  "language_info": {
   "codemirror_mode": {
    "name": "ipython",
    "version": 3
   },
   "file_extension": ".py",
   "mimetype": "text/x-python",
   "name": "python",
   "nbconvert_exporter": "python",
   "pygments_lexer": "ipython3",
   "version": "3.8.3"
  },
  "orig_nbformat": 4,
  "vscode": {
   "interpreter": {
    "hash": "ad2bdc8ecc057115af97d19610ffacc2b4e99fae6737bb82f5d7fb13d2f2c186"
   }
  }
 },
 "nbformat": 4,
 "nbformat_minor": 2
}
