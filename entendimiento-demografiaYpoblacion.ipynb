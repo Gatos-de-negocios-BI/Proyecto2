{
 "cells": [
  {
   "cell_type": "markdown",
   "metadata": {},
   "source": [
    "<h1>Análisis de datos de Demografía y Población</h1>"
   ]
  },
  {
   "cell_type": "code",
   "execution_count": 54,
   "metadata": {},
   "outputs": [],
   "source": [
    "import pandas as pd\n",
    "import numpy as np"
   ]
  },
  {
   "cell_type": "code",
   "execution_count": 55,
   "metadata": {},
   "outputs": [
    {
     "name": "stderr",
     "output_type": "stream",
     "text": [
      "C:\\Users\\camil\\AppData\\Local\\Temp\\ipykernel_12280\\3507951759.py:1: DtypeWarning: Columns (7) have mixed types. Specify dtype option on import or set low_memory=False.\n",
      "  data = pd.read_csv('Datos\\DemografiaYPoblacion.csv', delimiter=';', decimal=',')\n"
     ]
    }
   ],
   "source": [
    "data = pd.read_csv('Datos\\DemografiaYPoblacion.csv', delimiter=';', decimal=',')"
   ]
  },
  {
   "cell_type": "code",
   "execution_count": 56,
   "metadata": {},
   "outputs": [
    {
     "data": {
      "text/plain": [
       "(897998, 13)"
      ]
     },
     "execution_count": 56,
     "metadata": {},
     "output_type": "execute_result"
    }
   ],
   "source": [
    "data.shape"
   ]
  },
  {
   "cell_type": "code",
   "execution_count": 57,
   "metadata": {},
   "outputs": [
    {
     "data": {
      "text/html": [
       "<div>\n",
       "<style scoped>\n",
       "    .dataframe tbody tr th:only-of-type {\n",
       "        vertical-align: middle;\n",
       "    }\n",
       "\n",
       "    .dataframe tbody tr th {\n",
       "        vertical-align: top;\n",
       "    }\n",
       "\n",
       "    .dataframe thead th {\n",
       "        text-align: right;\n",
       "    }\n",
       "</style>\n",
       "<table border=\"1\" class=\"dataframe\">\n",
       "  <thead>\n",
       "    <tr style=\"text-align: right;\">\n",
       "      <th></th>\n",
       "      <th>Código Departamento</th>\n",
       "      <th>Código Entidad</th>\n",
       "      <th>Dato Cualitativo</th>\n",
       "      <th>Año</th>\n",
       "      <th>Mes</th>\n",
       "    </tr>\n",
       "  </thead>\n",
       "  <tbody>\n",
       "    <tr>\n",
       "      <th>count</th>\n",
       "      <td>897997.000000</td>\n",
       "      <td>897997.000000</td>\n",
       "      <td>0.0</td>\n",
       "      <td>897997.000000</td>\n",
       "      <td>897997.000000</td>\n",
       "    </tr>\n",
       "    <tr>\n",
       "      <th>mean</th>\n",
       "      <td>37.644918</td>\n",
       "      <td>38063.315163</td>\n",
       "      <td>NaN</td>\n",
       "      <td>2020.187781</td>\n",
       "      <td>11.549461</td>\n",
       "    </tr>\n",
       "    <tr>\n",
       "      <th>std</th>\n",
       "      <td>26.003483</td>\n",
       "      <td>25975.861971</td>\n",
       "      <td>NaN</td>\n",
       "      <td>2.077499</td>\n",
       "      <td>2.089799</td>\n",
       "    </tr>\n",
       "    <tr>\n",
       "      <th>min</th>\n",
       "      <td>1.000000</td>\n",
       "      <td>1001.000000</td>\n",
       "      <td>NaN</td>\n",
       "      <td>2010.000000</td>\n",
       "      <td>1.000000</td>\n",
       "    </tr>\n",
       "    <tr>\n",
       "      <th>25%</th>\n",
       "      <td>15.000000</td>\n",
       "      <td>15667.000000</td>\n",
       "      <td>NaN</td>\n",
       "      <td>2019.000000</td>\n",
       "      <td>12.000000</td>\n",
       "    </tr>\n",
       "    <tr>\n",
       "      <th>50%</th>\n",
       "      <td>25.000000</td>\n",
       "      <td>25805.000000</td>\n",
       "      <td>NaN</td>\n",
       "      <td>2020.000000</td>\n",
       "      <td>12.000000</td>\n",
       "    </tr>\n",
       "    <tr>\n",
       "      <th>75%</th>\n",
       "      <td>66.000000</td>\n",
       "      <td>66000.000000</td>\n",
       "      <td>NaN</td>\n",
       "      <td>2022.000000</td>\n",
       "      <td>12.000000</td>\n",
       "    </tr>\n",
       "    <tr>\n",
       "      <th>max</th>\n",
       "      <td>99.000000</td>\n",
       "      <td>99773.000000</td>\n",
       "      <td>NaN</td>\n",
       "      <td>2023.000000</td>\n",
       "      <td>12.000000</td>\n",
       "    </tr>\n",
       "  </tbody>\n",
       "</table>\n",
       "</div>"
      ],
      "text/plain": [
       "       Código Departamento  Código Entidad  Dato Cualitativo            Año  \\\n",
       "count        897997.000000   897997.000000               0.0  897997.000000   \n",
       "mean             37.644918    38063.315163               NaN    2020.187781   \n",
       "std              26.003483    25975.861971               NaN       2.077499   \n",
       "min               1.000000     1001.000000               NaN    2010.000000   \n",
       "25%              15.000000    15667.000000               NaN    2019.000000   \n",
       "50%              25.000000    25805.000000               NaN    2020.000000   \n",
       "75%              66.000000    66000.000000               NaN    2022.000000   \n",
       "max              99.000000    99773.000000               NaN    2023.000000   \n",
       "\n",
       "                 Mes  \n",
       "count  897997.000000  \n",
       "mean       11.549461  \n",
       "std         2.089799  \n",
       "min         1.000000  \n",
       "25%        12.000000  \n",
       "50%        12.000000  \n",
       "75%        12.000000  \n",
       "max        12.000000  "
      ]
     },
     "execution_count": 57,
     "metadata": {},
     "output_type": "execute_result"
    }
   ],
   "source": [
    "data.describe()"
   ]
  },
  {
   "cell_type": "code",
   "execution_count": 58,
   "metadata": {},
   "outputs": [
    {
     "data": {
      "text/html": [
       "<div>\n",
       "<style scoped>\n",
       "    .dataframe tbody tr th:only-of-type {\n",
       "        vertical-align: middle;\n",
       "    }\n",
       "\n",
       "    .dataframe tbody tr th {\n",
       "        vertical-align: top;\n",
       "    }\n",
       "\n",
       "    .dataframe thead th {\n",
       "        text-align: right;\n",
       "    }\n",
       "</style>\n",
       "<table border=\"1\" class=\"dataframe\">\n",
       "  <thead>\n",
       "    <tr style=\"text-align: right;\">\n",
       "      <th></th>\n",
       "      <th>Código Departamento</th>\n",
       "      <th>Departamento</th>\n",
       "      <th>Código Entidad</th>\n",
       "      <th>Entidad</th>\n",
       "      <th>Dimensión</th>\n",
       "      <th>Subcategoría</th>\n",
       "      <th>Indicador</th>\n",
       "      <th>Dato Numérico</th>\n",
       "      <th>Dato Cualitativo</th>\n",
       "      <th>Año</th>\n",
       "      <th>Mes</th>\n",
       "      <th>Fuente</th>\n",
       "      <th>Unidad de Medida</th>\n",
       "    </tr>\n",
       "  </thead>\n",
       "  <tbody>\n",
       "    <tr>\n",
       "      <th>0</th>\n",
       "      <td>NaN</td>\n",
       "      <td>NaN</td>\n",
       "      <td>NaN</td>\n",
       "      <td>NaN</td>\n",
       "      <td>NaN</td>\n",
       "      <td>NaN</td>\n",
       "      <td>aaaaaaaaaaaaaaaaaaaaaaaaaaaaaaaaaaaaaaaaaaaaaa...</td>\n",
       "      <td>NaN</td>\n",
       "      <td>NaN</td>\n",
       "      <td>NaN</td>\n",
       "      <td>NaN</td>\n",
       "      <td>aaaaaaaaaaaaaaaaaaaaaaaaaaaaaaaaaaaaaaaaaaaaaa...</td>\n",
       "      <td>NaN</td>\n",
       "    </tr>\n",
       "    <tr>\n",
       "      <th>1</th>\n",
       "      <td>68.0</td>\n",
       "      <td>Santander</td>\n",
       "      <td>68000.0</td>\n",
       "      <td>Santander</td>\n",
       "      <td>Demografía y población</td>\n",
       "      <td>Población de hombres</td>\n",
       "      <td>Población de hombres de 00-04</td>\n",
       "      <td>80.892,00</td>\n",
       "      <td>NaN</td>\n",
       "      <td>2018.0</td>\n",
       "      <td>12.0</td>\n",
       "      <td>DANE - Censo Nacional de Población y Vivienda</td>\n",
       "      <td>Hombres</td>\n",
       "    </tr>\n",
       "    <tr>\n",
       "      <th>2</th>\n",
       "      <td>68.0</td>\n",
       "      <td>Santander</td>\n",
       "      <td>68001.0</td>\n",
       "      <td>Bucaramanga</td>\n",
       "      <td>Demografía y población</td>\n",
       "      <td>Población de hombres</td>\n",
       "      <td>Población de hombres de 00-04</td>\n",
       "      <td>18.873,00</td>\n",
       "      <td>NaN</td>\n",
       "      <td>2018.0</td>\n",
       "      <td>12.0</td>\n",
       "      <td>DANE - Censo Nacional de Población y Vivienda</td>\n",
       "      <td>Hombres</td>\n",
       "    </tr>\n",
       "    <tr>\n",
       "      <th>3</th>\n",
       "      <td>68.0</td>\n",
       "      <td>Santander</td>\n",
       "      <td>68013.0</td>\n",
       "      <td>Aguada</td>\n",
       "      <td>Demografía y población</td>\n",
       "      <td>Población de hombres</td>\n",
       "      <td>Población de hombres de 00-04</td>\n",
       "      <td>57,00</td>\n",
       "      <td>NaN</td>\n",
       "      <td>2018.0</td>\n",
       "      <td>12.0</td>\n",
       "      <td>DANE - Censo Nacional de Población y Vivienda</td>\n",
       "      <td>Hombres</td>\n",
       "    </tr>\n",
       "    <tr>\n",
       "      <th>4</th>\n",
       "      <td>68.0</td>\n",
       "      <td>Santander</td>\n",
       "      <td>68020.0</td>\n",
       "      <td>Albania</td>\n",
       "      <td>Demografía y población</td>\n",
       "      <td>Población de hombres</td>\n",
       "      <td>Población de hombres de 00-04</td>\n",
       "      <td>140,00</td>\n",
       "      <td>NaN</td>\n",
       "      <td>2018.0</td>\n",
       "      <td>12.0</td>\n",
       "      <td>DANE - Censo Nacional de Población y Vivienda</td>\n",
       "      <td>Hombres</td>\n",
       "    </tr>\n",
       "  </tbody>\n",
       "</table>\n",
       "</div>"
      ],
      "text/plain": [
       "   Código Departamento Departamento  Código Entidad      Entidad  \\\n",
       "0                  NaN          NaN             NaN          NaN   \n",
       "1                 68.0    Santander         68000.0    Santander   \n",
       "2                 68.0    Santander         68001.0  Bucaramanga   \n",
       "3                 68.0    Santander         68013.0       Aguada   \n",
       "4                 68.0    Santander         68020.0      Albania   \n",
       "\n",
       "                Dimensión          Subcategoría  \\\n",
       "0                     NaN                   NaN   \n",
       "1  Demografía y población  Población de hombres   \n",
       "2  Demografía y población  Población de hombres   \n",
       "3  Demografía y población  Población de hombres   \n",
       "4  Demografía y población  Población de hombres   \n",
       "\n",
       "                                           Indicador Dato Numérico  \\\n",
       "0  aaaaaaaaaaaaaaaaaaaaaaaaaaaaaaaaaaaaaaaaaaaaaa...           NaN   \n",
       "1                      Población de hombres de 00-04     80.892,00   \n",
       "2                      Población de hombres de 00-04     18.873,00   \n",
       "3                      Población de hombres de 00-04         57,00   \n",
       "4                      Población de hombres de 00-04        140,00   \n",
       "\n",
       "   Dato Cualitativo     Año   Mes  \\\n",
       "0               NaN     NaN   NaN   \n",
       "1               NaN  2018.0  12.0   \n",
       "2               NaN  2018.0  12.0   \n",
       "3               NaN  2018.0  12.0   \n",
       "4               NaN  2018.0  12.0   \n",
       "\n",
       "                                              Fuente Unidad de Medida  \n",
       "0  aaaaaaaaaaaaaaaaaaaaaaaaaaaaaaaaaaaaaaaaaaaaaa...              NaN  \n",
       "1      DANE - Censo Nacional de Población y Vivienda          Hombres  \n",
       "2      DANE - Censo Nacional de Población y Vivienda          Hombres  \n",
       "3      DANE - Censo Nacional de Población y Vivienda          Hombres  \n",
       "4      DANE - Censo Nacional de Población y Vivienda          Hombres  "
      ]
     },
     "execution_count": 58,
     "metadata": {},
     "output_type": "execute_result"
    }
   ],
   "source": [
    "data.head()"
   ]
  },
  {
   "cell_type": "code",
   "execution_count": 59,
   "metadata": {},
   "outputs": [
    {
     "data": {
      "text/plain": [
       "Código Departamento    float64\n",
       "Departamento            object\n",
       "Código Entidad         float64\n",
       "Entidad                 object\n",
       "Dimensión               object\n",
       "Subcategoría            object\n",
       "Indicador               object\n",
       "Dato Numérico           object\n",
       "Dato Cualitativo       float64\n",
       "Año                    float64\n",
       "Mes                    float64\n",
       "Fuente                  object\n",
       "Unidad de Medida        object\n",
       "dtype: object"
      ]
     },
     "execution_count": 59,
     "metadata": {},
     "output_type": "execute_result"
    }
   ],
   "source": [
    "data.dtypes"
   ]
  },
  {
   "cell_type": "code",
   "execution_count": 60,
   "metadata": {},
   "outputs": [
    {
     "data": {
      "text/plain": [
       "Código Departamento    0.000001\n",
       "Departamento           0.000001\n",
       "Código Entidad         0.000001\n",
       "Entidad                0.000001\n",
       "Dimensión              0.000001\n",
       "Subcategoría           0.000001\n",
       "Indicador              0.000000\n",
       "Dato Numérico          0.084083\n",
       "Dato Cualitativo       1.000000\n",
       "Año                    0.000001\n",
       "Mes                    0.000001\n",
       "Fuente                 0.000000\n",
       "Unidad de Medida       0.000001\n",
       "dtype: float64"
      ]
     },
     "execution_count": 60,
     "metadata": {},
     "output_type": "execute_result"
    }
   ],
   "source": [
    "data.isnull().mean()"
   ]
  },
  {
   "cell_type": "code",
   "execution_count": 61,
   "metadata": {},
   "outputs": [
    {
     "data": {
      "text/plain": [
       "1.0840926149056012"
      ]
     },
     "execution_count": 61,
     "metadata": {},
     "output_type": "execute_result"
    }
   ],
   "source": [
    "data.isnull().mean().sum()"
   ]
  },
  {
   "cell_type": "code",
   "execution_count": 62,
   "metadata": {},
   "outputs": [],
   "source": [
    "data = data.drop(data.index[0])"
   ]
  },
  {
   "cell_type": "code",
   "execution_count": 63,
   "metadata": {},
   "outputs": [],
   "source": [
    "data = data.drop('Dato Cualitativo', axis=1)"
   ]
  },
  {
   "cell_type": "code",
   "execution_count": 64,
   "metadata": {},
   "outputs": [
    {
     "data": {
      "text/plain": [
       "Código Departamento    0.000000\n",
       "Departamento           0.000000\n",
       "Código Entidad         0.000000\n",
       "Entidad                0.000000\n",
       "Dimensión              0.000000\n",
       "Subcategoría           0.000000\n",
       "Indicador              0.000000\n",
       "Dato Numérico          0.084082\n",
       "Año                    0.000000\n",
       "Mes                    0.000000\n",
       "Fuente                 0.000000\n",
       "Unidad de Medida       0.000000\n",
       "dtype: float64"
      ]
     },
     "execution_count": 64,
     "metadata": {},
     "output_type": "execute_result"
    }
   ],
   "source": [
    "data.isnull().mean()"
   ]
  },
  {
   "cell_type": "code",
   "execution_count": 65,
   "metadata": {},
   "outputs": [],
   "source": [
    "data = data.dropna(how='any', axis=0)"
   ]
  },
  {
   "cell_type": "code",
   "execution_count": 66,
   "metadata": {},
   "outputs": [
    {
     "name": "stderr",
     "output_type": "stream",
     "text": [
      "C:\\Users\\camil\\AppData\\Local\\Temp\\ipykernel_12280\\3510602877.py:1: FutureWarning: The default value of regex will change from True to False in a future version. In addition, single character regular expressions will *not* be treated as literal strings when regex=True.\n",
      "  data['Dato Numérico'] = data['Dato Numérico'].str.replace('.','')\n"
     ]
    }
   ],
   "source": [
    "data['Dato Numérico'] = data['Dato Numérico'].str.replace('.','')"
   ]
  },
  {
   "cell_type": "code",
   "execution_count": 67,
   "metadata": {},
   "outputs": [],
   "source": [
    "data['Dato Numérico'] = data['Dato Numérico'].str.replace(',','.')"
   ]
  },
  {
   "cell_type": "code",
   "execution_count": 68,
   "metadata": {},
   "outputs": [],
   "source": [
    "data['Dato Numérico'] = data['Dato Numérico'].astype('float')"
   ]
  },
  {
   "cell_type": "code",
   "execution_count": 69,
   "metadata": {},
   "outputs": [
    {
     "data": {
      "text/plain": [
       "Código Departamento    0.000000\n",
       "Departamento           0.000000\n",
       "Código Entidad         0.000000\n",
       "Entidad                0.000000\n",
       "Dimensión              0.000000\n",
       "Subcategoría           0.000000\n",
       "Indicador              0.000000\n",
       "Dato Numérico          0.239039\n",
       "Año                    0.000000\n",
       "Mes                    0.000000\n",
       "Fuente                 0.000000\n",
       "Unidad de Medida       0.000000\n",
       "dtype: float64"
      ]
     },
     "execution_count": 69,
     "metadata": {},
     "output_type": "execute_result"
    }
   ],
   "source": [
    "data.isnull().mean()"
   ]
  },
  {
   "cell_type": "code",
   "execution_count": 70,
   "metadata": {},
   "outputs": [
    {
     "data": {
      "text/plain": [
       "(822492, 12)"
      ]
     },
     "execution_count": 70,
     "metadata": {},
     "output_type": "execute_result"
    }
   ],
   "source": [
    "data.shape"
   ]
  },
  {
   "cell_type": "code",
   "execution_count": 71,
   "metadata": {},
   "outputs": [
    {
     "data": {
      "text/plain": [
       "Código Departamento    float64\n",
       "Departamento            object\n",
       "Código Entidad         float64\n",
       "Entidad                 object\n",
       "Dimensión               object\n",
       "Subcategoría            object\n",
       "Indicador               object\n",
       "Dato Numérico          float64\n",
       "Año                    float64\n",
       "Mes                    float64\n",
       "Fuente                  object\n",
       "Unidad de Medida        object\n",
       "dtype: object"
      ]
     },
     "execution_count": 71,
     "metadata": {},
     "output_type": "execute_result"
    }
   ],
   "source": [
    "data.dtypes"
   ]
  },
  {
   "cell_type": "code",
   "execution_count": 72,
   "metadata": {},
   "outputs": [],
   "source": [
    "data = data[['Código Entidad', 'Entidad', 'Subcategoría', 'Dato Numérico', 'Año']].groupby(['Código Entidad', 'Entidad', 'Subcategoría', 'Año']).sum().reset_index()"
   ]
  },
  {
   "cell_type": "code",
   "execution_count": 73,
   "metadata": {},
   "outputs": [],
   "source": [
    "data =data.loc[(data['Subcategoría'].str.contains('Población de hombres') )| (data['Subcategoría'].str.contains('Población de mujeres'))]"
   ]
  },
  {
   "cell_type": "code",
   "execution_count": 74,
   "metadata": {},
   "outputs": [],
   "source": [
    "data['Subcategoría'] = data['Subcategoría'].str.replace('Población de hombres', '1')"
   ]
  },
  {
   "cell_type": "code",
   "execution_count": 75,
   "metadata": {},
   "outputs": [],
   "source": [
    "data['Subcategoría'] = data['Subcategoría'].str.replace('Población de mujeres', '2')"
   ]
  },
  {
   "cell_type": "code",
   "execution_count": 76,
   "metadata": {},
   "outputs": [],
   "source": [
    "data['Subcategoría'] = data['Subcategoría'].astype('int')"
   ]
  },
  {
   "cell_type": "code",
   "execution_count": 77,
   "metadata": {},
   "outputs": [],
   "source": [
    "data['demografia_key'] = range(1, len(data) + 1)"
   ]
  },
  {
   "cell_type": "code",
   "execution_count": 78,
   "metadata": {},
   "outputs": [
    {
     "data": {
      "text/html": [
       "<div>\n",
       "<style scoped>\n",
       "    .dataframe tbody tr th:only-of-type {\n",
       "        vertical-align: middle;\n",
       "    }\n",
       "\n",
       "    .dataframe tbody tr th {\n",
       "        vertical-align: top;\n",
       "    }\n",
       "\n",
       "    .dataframe thead th {\n",
       "        text-align: right;\n",
       "    }\n",
       "</style>\n",
       "<table border=\"1\" class=\"dataframe\">\n",
       "  <thead>\n",
       "    <tr style=\"text-align: right;\">\n",
       "      <th></th>\n",
       "      <th>Código Entidad</th>\n",
       "      <th>Entidad</th>\n",
       "      <th>Subcategoría</th>\n",
       "      <th>Año</th>\n",
       "      <th>Dato Numérico</th>\n",
       "      <th>demografia_key</th>\n",
       "    </tr>\n",
       "  </thead>\n",
       "  <tbody>\n",
       "    <tr>\n",
       "      <th>4</th>\n",
       "      <td>1001.0</td>\n",
       "      <td>Colombia</td>\n",
       "      <td>1</td>\n",
       "      <td>2018.0</td>\n",
       "      <td>23573305.14</td>\n",
       "      <td>1</td>\n",
       "    </tr>\n",
       "    <tr>\n",
       "      <th>5</th>\n",
       "      <td>1001.0</td>\n",
       "      <td>Colombia</td>\n",
       "      <td>1</td>\n",
       "      <td>2019.0</td>\n",
       "      <td>24123697.00</td>\n",
       "      <td>2</td>\n",
       "    </tr>\n",
       "    <tr>\n",
       "      <th>6</th>\n",
       "      <td>1001.0</td>\n",
       "      <td>Colombia</td>\n",
       "      <td>1</td>\n",
       "      <td>2020.0</td>\n",
       "      <td>24594896.05</td>\n",
       "      <td>3</td>\n",
       "    </tr>\n",
       "    <tr>\n",
       "      <th>7</th>\n",
       "      <td>1001.0</td>\n",
       "      <td>Colombia</td>\n",
       "      <td>1</td>\n",
       "      <td>2021.0</td>\n",
       "      <td>24912245.13</td>\n",
       "      <td>4</td>\n",
       "    </tr>\n",
       "    <tr>\n",
       "      <th>8</th>\n",
       "      <td>1001.0</td>\n",
       "      <td>Colombia</td>\n",
       "      <td>1</td>\n",
       "      <td>2022.0</td>\n",
       "      <td>25167275.21</td>\n",
       "      <td>5</td>\n",
       "    </tr>\n",
       "  </tbody>\n",
       "</table>\n",
       "</div>"
      ],
      "text/plain": [
       "   Código Entidad   Entidad  Subcategoría     Año  Dato Numérico  \\\n",
       "4          1001.0  Colombia             1  2018.0    23573305.14   \n",
       "5          1001.0  Colombia             1  2019.0    24123697.00   \n",
       "6          1001.0  Colombia             1  2020.0    24594896.05   \n",
       "7          1001.0  Colombia             1  2021.0    24912245.13   \n",
       "8          1001.0  Colombia             1  2022.0    25167275.21   \n",
       "\n",
       "   demografia_key  \n",
       "4               1  \n",
       "5               2  \n",
       "6               3  \n",
       "7               4  \n",
       "8               5  "
      ]
     },
     "execution_count": 78,
     "metadata": {},
     "output_type": "execute_result"
    }
   ],
   "source": [
    "data.head()"
   ]
  },
  {
   "cell_type": "code",
   "execution_count": 79,
   "metadata": {},
   "outputs": [
    {
     "data": {
      "image/png": "[encoded data removed]",
      "text/plain": [
       "<Figure size 1000x500 with 1 Axes>"
      ]
     },
     "metadata": {},
     "output_type": "display_data"
    }
   ],
   "source": [
    "# plot bar data\n",
    "import matplotlib.pyplot as plt\n",
    "import seaborn as sns\n",
    "\n",
    "plt.figure(figsize=(10,5))\n",
    "sns.barplot(x='Año', y='Dato Numérico', data=data)\n",
    "plt.show()"
   ]
  },
  {
   "cell_type": "code",
   "execution_count": 80,
   "metadata": {},
   "outputs": [],
   "source": [
    "\n",
    "from sklearn.preprocessing import MinMaxScaler\n",
    "import numpy as np\n",
    "  \n",
    "# apply normalization techniques\n",
    "column = 'Dato Numérico'\n",
    "data[column] = MinMaxScaler().fit_transform(np.array(data[column]).reshape(-1,1))\n",
    "  "
   ]
  },
  {
   "cell_type": "code",
   "execution_count": 81,
   "metadata": {},
   "outputs": [],
   "source": [
    "data.to_csv('Datos/DemografiaYPoblacion_limpio.csv', index=False, decimal='.', sep=';')"
   ]
  }
 ],
 "metadata": {
  "kernelspec": {
   "display_name": "Python 3.10.4 64-bit",
   "language": "python",
   "name": "python3"
  },
  "language_info": {
   "codemirror_mode": {
    "name": "ipython",
    "version": 3
   },
   "file_extension": ".py",
   "mimetype": "text/x-python",
   "name": "python",
   "nbconvert_exporter": "python",
   "pygments_lexer": "ipython3",
   "version": "3.10.4"
  },
  "orig_nbformat": 4,
  "vscode": {
   "interpreter": {
    "hash": "680909a85cd0f96ba1c50ae49c7276dc4874e63b5fd1d1624a0b59680dc2cd74"
   }
  }
 },
 "nbformat": 4,
 "nbformat_minor": 2
}
