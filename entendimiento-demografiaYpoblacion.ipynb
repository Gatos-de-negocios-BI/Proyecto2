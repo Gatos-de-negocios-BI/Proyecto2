{
 "cells": [
  {
   "cell_type": "code",
   "execution_count": null,
   "metadata": {},
   "outputs": [],
   "source": []
  }
 ],
 "metadata": {
  "kernelspec": {
   "display_name": "Python 3.10.4 64-bit",
   "language": "python",
   "name": "python3"
  },
  "language_info": {
   "name": "python",
   "version": "3.10.4"
  },
  "orig_nbformat": 4,
  "vscode": {
   "interpreter": {
    "hash": "680909a85cd0f96ba1c50ae49c7276dc4874e63b5fd1d1624a0b59680dc2cd74"
   }
  }
 },
 "nbformat": 4,
 "nbformat_minor": 2
}
