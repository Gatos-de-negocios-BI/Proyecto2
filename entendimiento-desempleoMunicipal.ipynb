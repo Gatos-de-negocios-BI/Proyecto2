{
 "cells": [
  {
   "cell_type": "markdown",
   "metadata": {},
   "source": [
    "<h1>Análisis de datos de desempleo</h1>"
   ]
  },
  {
   "cell_type": "code",
   "execution_count": 1,
   "metadata": {},
   "outputs": [],
   "source": [
    "import pandas as pd\n",
    "import numpy as np"
   ]
  },
  {
   "cell_type": "code",
   "execution_count": 2,
   "metadata": {},
   "outputs": [],
   "source": [
    "data = pd.read_csv('Datos/Desempleo.csv', sep=';')"
   ]
  },
  {
   "cell_type": "code",
   "execution_count": 3,
   "metadata": {},
   "outputs": [
    {
     "data": {
      "text/plain": [
       "(100, 13)"
      ]
     },
     "execution_count": 3,
     "metadata": {},
     "output_type": "execute_result"
    }
   ],
   "source": [
    "data.shape"
   ]
  },
  {
   "cell_type": "code",
   "execution_count": 4,
   "metadata": {},
   "outputs": [
    {
     "data": {
      "text/html": [
       "<div>\n",
       "<style scoped>\n",
       "    .dataframe tbody tr th:only-of-type {\n",
       "        vertical-align: middle;\n",
       "    }\n",
       "\n",
       "    .dataframe tbody tr th {\n",
       "        vertical-align: top;\n",
       "    }\n",
       "\n",
       "    .dataframe thead th {\n",
       "        text-align: right;\n",
       "    }\n",
       "</style>\n",
       "<table border=\"1\" class=\"dataframe\">\n",
       "  <thead>\n",
       "    <tr style=\"text-align: right;\">\n",
       "      <th></th>\n",
       "      <th>Código Departamento</th>\n",
       "      <th>Código Entidad</th>\n",
       "      <th>Dato Cualitativo</th>\n",
       "      <th>Año</th>\n",
       "      <th>Mes</th>\n",
       "    </tr>\n",
       "  </thead>\n",
       "  <tbody>\n",
       "    <tr>\n",
       "      <th>count</th>\n",
       "      <td>99.000000</td>\n",
       "      <td>99.000000</td>\n",
       "      <td>0.0</td>\n",
       "      <td>99.0</td>\n",
       "      <td>99.0</td>\n",
       "    </tr>\n",
       "    <tr>\n",
       "      <th>mean</th>\n",
       "      <td>51.848485</td>\n",
       "      <td>51848.515152</td>\n",
       "      <td>NaN</td>\n",
       "      <td>2020.0</td>\n",
       "      <td>12.0</td>\n",
       "    </tr>\n",
       "    <tr>\n",
       "      <th>std</th>\n",
       "      <td>31.399130</td>\n",
       "      <td>31399.080674</td>\n",
       "      <td>NaN</td>\n",
       "      <td>0.0</td>\n",
       "      <td>0.0</td>\n",
       "    </tr>\n",
       "    <tr>\n",
       "      <th>min</th>\n",
       "      <td>1.000000</td>\n",
       "      <td>1001.000000</td>\n",
       "      <td>NaN</td>\n",
       "      <td>2020.0</td>\n",
       "      <td>12.0</td>\n",
       "    </tr>\n",
       "    <tr>\n",
       "      <th>25%</th>\n",
       "      <td>20.000000</td>\n",
       "      <td>20000.000000</td>\n",
       "      <td>NaN</td>\n",
       "      <td>2020.0</td>\n",
       "      <td>12.0</td>\n",
       "    </tr>\n",
       "    <tr>\n",
       "      <th>50%</th>\n",
       "      <td>52.000000</td>\n",
       "      <td>52000.000000</td>\n",
       "      <td>NaN</td>\n",
       "      <td>2020.0</td>\n",
       "      <td>12.0</td>\n",
       "    </tr>\n",
       "    <tr>\n",
       "      <th>75%</th>\n",
       "      <td>81.000000</td>\n",
       "      <td>81000.000000</td>\n",
       "      <td>NaN</td>\n",
       "      <td>2020.0</td>\n",
       "      <td>12.0</td>\n",
       "    </tr>\n",
       "    <tr>\n",
       "      <th>max</th>\n",
       "      <td>99.000000</td>\n",
       "      <td>99000.000000</td>\n",
       "      <td>NaN</td>\n",
       "      <td>2020.0</td>\n",
       "      <td>12.0</td>\n",
       "    </tr>\n",
       "  </tbody>\n",
       "</table>\n",
       "</div>"
      ],
      "text/plain": [
       "       Código Departamento  Código Entidad  Dato Cualitativo     Año   Mes\n",
       "count            99.000000       99.000000               0.0    99.0  99.0\n",
       "mean             51.848485    51848.515152               NaN  2020.0  12.0\n",
       "std              31.399130    31399.080674               NaN     0.0   0.0\n",
       "min               1.000000     1001.000000               NaN  2020.0  12.0\n",
       "25%              20.000000    20000.000000               NaN  2020.0  12.0\n",
       "50%              52.000000    52000.000000               NaN  2020.0  12.0\n",
       "75%              81.000000    81000.000000               NaN  2020.0  12.0\n",
       "max              99.000000    99000.000000               NaN  2020.0  12.0"
      ]
     },
     "execution_count": 4,
     "metadata": {},
     "output_type": "execute_result"
    }
   ],
   "source": [
    "data.describe()"
   ]
  },
  {
   "cell_type": "code",
   "execution_count": 5,
   "metadata": {},
   "outputs": [
    {
     "data": {
      "text/html": [
       "<div>\n",
       "<style scoped>\n",
       "    .dataframe tbody tr th:only-of-type {\n",
       "        vertical-align: middle;\n",
       "    }\n",
       "\n",
       "    .dataframe tbody tr th {\n",
       "        vertical-align: top;\n",
       "    }\n",
       "\n",
       "    .dataframe thead th {\n",
       "        text-align: right;\n",
       "    }\n",
       "</style>\n",
       "<table border=\"1\" class=\"dataframe\">\n",
       "  <thead>\n",
       "    <tr style=\"text-align: right;\">\n",
       "      <th></th>\n",
       "      <th>Código Departamento</th>\n",
       "      <th>Departamento</th>\n",
       "      <th>Código Entidad</th>\n",
       "      <th>Entidad</th>\n",
       "      <th>Dimensión</th>\n",
       "      <th>Subcategoría</th>\n",
       "      <th>Indicador</th>\n",
       "      <th>Dato Numérico</th>\n",
       "      <th>Dato Cualitativo</th>\n",
       "      <th>Año</th>\n",
       "      <th>Mes</th>\n",
       "      <th>Fuente</th>\n",
       "      <th>Unidad de Medida</th>\n",
       "    </tr>\n",
       "  </thead>\n",
       "  <tbody>\n",
       "    <tr>\n",
       "      <th>0</th>\n",
       "      <td>NaN</td>\n",
       "      <td>NaN</td>\n",
       "      <td>NaN</td>\n",
       "      <td>NaN</td>\n",
       "      <td>NaN</td>\n",
       "      <td>NaN</td>\n",
       "      <td>aaaaaaaaaaaaaaaaaaaaaaaaaaaaaaaaaaaaaaaaaaaaaa...</td>\n",
       "      <td>NaN</td>\n",
       "      <td>NaN</td>\n",
       "      <td>NaN</td>\n",
       "      <td>NaN</td>\n",
       "      <td>aaaaaaaaaaaaaaaaaaaaaaaaaaaaaaaaaaaaaaaaaaaaaa...</td>\n",
       "      <td>NaN</td>\n",
       "    </tr>\n",
       "    <tr>\n",
       "      <th>1</th>\n",
       "      <td>1.0</td>\n",
       "      <td>Colombia</td>\n",
       "      <td>1001.0</td>\n",
       "      <td>Colombia</td>\n",
       "      <td>Medición de desempeño departamental</td>\n",
       "      <td>Resumen MDD</td>\n",
       "      <td>Componente de gestión</td>\n",
       "      <td>64,47</td>\n",
       "      <td>NaN</td>\n",
       "      <td>2020.0</td>\n",
       "      <td>12.0</td>\n",
       "      <td>DNP - DDDR</td>\n",
       "      <td>Puntos</td>\n",
       "    </tr>\n",
       "    <tr>\n",
       "      <th>2</th>\n",
       "      <td>5.0</td>\n",
       "      <td>Antioquia</td>\n",
       "      <td>5000.0</td>\n",
       "      <td>Antioquia</td>\n",
       "      <td>Medición de desempeño departamental</td>\n",
       "      <td>Resumen MDD</td>\n",
       "      <td>Componente de gestión</td>\n",
       "      <td>81,60</td>\n",
       "      <td>NaN</td>\n",
       "      <td>2020.0</td>\n",
       "      <td>12.0</td>\n",
       "      <td>DNP - DDDR</td>\n",
       "      <td>Puntos</td>\n",
       "    </tr>\n",
       "    <tr>\n",
       "      <th>3</th>\n",
       "      <td>8.0</td>\n",
       "      <td>Atlántico</td>\n",
       "      <td>8000.0</td>\n",
       "      <td>Atlántico</td>\n",
       "      <td>Medición de desempeño departamental</td>\n",
       "      <td>Resumen MDD</td>\n",
       "      <td>Componente de gestión</td>\n",
       "      <td>68,73</td>\n",
       "      <td>NaN</td>\n",
       "      <td>2020.0</td>\n",
       "      <td>12.0</td>\n",
       "      <td>DNP - DDDR</td>\n",
       "      <td>Puntos</td>\n",
       "    </tr>\n",
       "    <tr>\n",
       "      <th>4</th>\n",
       "      <td>13.0</td>\n",
       "      <td>Bolívar</td>\n",
       "      <td>13000.0</td>\n",
       "      <td>Bolívar</td>\n",
       "      <td>Medición de desempeño departamental</td>\n",
       "      <td>Resumen MDD</td>\n",
       "      <td>Componente de gestión</td>\n",
       "      <td>63,53</td>\n",
       "      <td>NaN</td>\n",
       "      <td>2020.0</td>\n",
       "      <td>12.0</td>\n",
       "      <td>DNP - DDDR</td>\n",
       "      <td>Puntos</td>\n",
       "    </tr>\n",
       "  </tbody>\n",
       "</table>\n",
       "</div>"
      ],
      "text/plain": [
       "   Código Departamento Departamento  Código Entidad    Entidad  \\\n",
       "0                  NaN          NaN             NaN        NaN   \n",
       "1                  1.0     Colombia          1001.0   Colombia   \n",
       "2                  5.0    Antioquia          5000.0  Antioquia   \n",
       "3                  8.0    Atlántico          8000.0  Atlántico   \n",
       "4                 13.0      Bolívar         13000.0    Bolívar   \n",
       "\n",
       "                             Dimensión Subcategoría  \\\n",
       "0                                  NaN          NaN   \n",
       "1  Medición de desempeño departamental  Resumen MDD   \n",
       "2  Medición de desempeño departamental  Resumen MDD   \n",
       "3  Medición de desempeño departamental  Resumen MDD   \n",
       "4  Medición de desempeño departamental  Resumen MDD   \n",
       "\n",
       "                                           Indicador Dato Numérico  \\\n",
       "0  aaaaaaaaaaaaaaaaaaaaaaaaaaaaaaaaaaaaaaaaaaaaaa...           NaN   \n",
       "1                              Componente de gestión         64,47   \n",
       "2                              Componente de gestión         81,60   \n",
       "3                              Componente de gestión         68,73   \n",
       "4                              Componente de gestión         63,53   \n",
       "\n",
       "   Dato Cualitativo     Año   Mes  \\\n",
       "0               NaN     NaN   NaN   \n",
       "1               NaN  2020.0  12.0   \n",
       "2               NaN  2020.0  12.0   \n",
       "3               NaN  2020.0  12.0   \n",
       "4               NaN  2020.0  12.0   \n",
       "\n",
       "                                              Fuente Unidad de Medida  \n",
       "0  aaaaaaaaaaaaaaaaaaaaaaaaaaaaaaaaaaaaaaaaaaaaaa...              NaN  \n",
       "1                                         DNP - DDDR           Puntos  \n",
       "2                                         DNP - DDDR           Puntos  \n",
       "3                                         DNP - DDDR           Puntos  \n",
       "4                                         DNP - DDDR           Puntos  "
      ]
     },
     "execution_count": 5,
     "metadata": {},
     "output_type": "execute_result"
    }
   ],
   "source": [
    "data.head()"
   ]
  },
  {
   "cell_type": "code",
   "execution_count": 6,
   "metadata": {},
   "outputs": [
    {
     "data": {
      "text/plain": [
       "Código Departamento      1\n",
       "Departamento             1\n",
       "Código Entidad           1\n",
       "Entidad                  1\n",
       "Dimensión                1\n",
       "Subcategoría             1\n",
       "Indicador                0\n",
       "Dato Numérico            1\n",
       "Dato Cualitativo       100\n",
       "Año                      1\n",
       "Mes                      1\n",
       "Fuente                   0\n",
       "Unidad de Medida         1\n",
       "dtype: int64"
      ]
     },
     "execution_count": 6,
     "metadata": {},
     "output_type": "execute_result"
    }
   ],
   "source": [
    "data.isnull().sum()"
   ]
  },
  {
   "cell_type": "code",
   "execution_count": 7,
   "metadata": {},
   "outputs": [],
   "source": [
    "data['Dato Cualitativo'].fillna('n/a', inplace=True)"
   ]
  },
  {
   "cell_type": "code",
   "execution_count": 8,
   "metadata": {},
   "outputs": [],
   "source": [
    "data = data.dropna()"
   ]
  },
  {
   "cell_type": "code",
   "execution_count": 9,
   "metadata": {},
   "outputs": [
    {
     "name": "stderr",
     "output_type": "stream",
     "text": [
      "C:\\Users\\elpin\\AppData\\Local\\Temp\\ipykernel_3576\\3684333492.py:1: FutureWarning: The default value of regex will change from True to False in a future version. In addition, single character regular expressions will *not* be treated as literal strings when regex=True.\n",
      "  data['Dato Numérico'] = data['Dato Numérico'].str.replace('.', '')\n"
     ]
    }
   ],
   "source": [
    "data['Dato Numérico'] = data['Dato Numérico'].str.replace('.', '')"
   ]
  },
  {
   "cell_type": "code",
   "execution_count": 10,
   "metadata": {},
   "outputs": [],
   "source": [
    "data['Dato Numérico'] = data['Dato Numérico'].str.replace(',00',',0')"
   ]
  },
  {
   "cell_type": "code",
   "execution_count": 11,
   "metadata": {},
   "outputs": [],
   "source": [
    "data['Dato Numérico'] = data['Dato Numérico'].str.replace(',', '.')"
   ]
  },
  {
   "cell_type": "code",
   "execution_count": 12,
   "metadata": {},
   "outputs": [],
   "source": [
    "data['Dato Numérico'] = data['Dato Numérico'].astype('float')"
   ]
  },
  {
   "cell_type": "code",
   "execution_count": 13,
   "metadata": {},
   "outputs": [
    {
     "data": {
      "text/plain": [
       "Código Departamento    0\n",
       "Departamento           0\n",
       "Código Entidad         0\n",
       "Entidad                0\n",
       "Dimensión              0\n",
       "Subcategoría           0\n",
       "Indicador              0\n",
       "Dato Numérico          0\n",
       "Dato Cualitativo       0\n",
       "Año                    0\n",
       "Mes                    0\n",
       "Fuente                 0\n",
       "Unidad de Medida       0\n",
       "dtype: int64"
      ]
     },
     "execution_count": 13,
     "metadata": {},
     "output_type": "execute_result"
    }
   ],
   "source": [
    "data.isnull().sum()"
   ]
  },
  {
   "cell_type": "code",
   "execution_count": 14,
   "metadata": {},
   "outputs": [
    {
     "data": {
      "text/plain": [
       "(99, 13)"
      ]
     },
     "execution_count": 14,
     "metadata": {},
     "output_type": "execute_result"
    }
   ],
   "source": [
    "data.shape"
   ]
  },
  {
   "cell_type": "code",
   "execution_count": 16,
   "metadata": {},
   "outputs": [
    {
     "data": {
      "text/plain": [
       "Componente de gestión       33\n",
       "Componente de resultados    33\n",
       "MDD                         33\n",
       "Name: Indicador, dtype: int64"
      ]
     },
     "execution_count": 16,
     "metadata": {},
     "output_type": "execute_result"
    }
   ],
   "source": [
    "data['Indicador'].value_counts()"
   ]
  },
  {
   "cell_type": "code",
   "execution_count": 15,
   "metadata": {},
   "outputs": [],
   "source": [
    "data.to_csv('Datos/Desempleo_limpio.csv', sep=';', index=False, decimal='.')"
   ]
  }
 ],
 "metadata": {
  "kernelspec": {
   "display_name": "Python 3.8.3 ('base')",
   "language": "python",
   "name": "python3"
  },
  "language_info": {
   "codemirror_mode": {
    "name": "ipython",
    "version": 3
   },
   "file_extension": ".py",
   "mimetype": "text/x-python",
   "name": "python",
   "nbconvert_exporter": "python",
   "pygments_lexer": "ipython3",
   "version": "3.8.5"
  },
  "orig_nbformat": 4,
  "vscode": {
   "interpreter": {
    "hash": "ad2bdc8ecc057115af97d19610ffacc2b4e99fae6737bb82f5d7fb13d2f2c186"
   }
  }
 },
 "nbformat": 4,
 "nbformat_minor": 2
}
