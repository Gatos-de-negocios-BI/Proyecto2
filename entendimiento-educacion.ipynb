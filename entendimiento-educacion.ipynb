{
 "cells": [
  {
   "cell_type": "markdown",
   "metadata": {},
   "source": [
    "<h1>Análisis de datos de Educación</h1>"
   ]
  },
  {
   "cell_type": "code",
   "execution_count": 1,
   "metadata": {},
   "outputs": [],
   "source": [
    "import pandas as pd\n",
    "import numpy as np\n",
    "from sklearn.preprocessing import LabelEncoder as LE"
   ]
  },
  {
   "cell_type": "code",
   "execution_count": 2,
   "metadata": {},
   "outputs": [],
   "source": [
    "data = pd.read_csv('Datos\\Educacion.csv', delimiter=';', decimal=',')"
   ]
  },
  {
   "cell_type": "code",
   "execution_count": 3,
   "metadata": {},
   "outputs": [
    {
     "data": {
      "text/plain": [
       "(291757, 13)"
      ]
     },
     "execution_count": 3,
     "metadata": {},
     "output_type": "execute_result"
    }
   ],
   "source": [
    "data.shape"
   ]
  },
  {
   "cell_type": "code",
   "execution_count": 4,
   "metadata": {},
   "outputs": [
    {
     "data": {
      "text/html": [
       "<div>\n",
       "<style scoped>\n",
       "    .dataframe tbody tr th:only-of-type {\n",
       "        vertical-align: middle;\n",
       "    }\n",
       "\n",
       "    .dataframe tbody tr th {\n",
       "        vertical-align: top;\n",
       "    }\n",
       "\n",
       "    .dataframe thead th {\n",
       "        text-align: right;\n",
       "    }\n",
       "</style>\n",
       "<table border=\"1\" class=\"dataframe\">\n",
       "  <thead>\n",
       "    <tr style=\"text-align: right;\">\n",
       "      <th></th>\n",
       "      <th>Código Departamento</th>\n",
       "      <th>Código Entidad</th>\n",
       "      <th>Dato Numérico</th>\n",
       "      <th>Dato Cualitativo</th>\n",
       "      <th>Año</th>\n",
       "      <th>Mes</th>\n",
       "    </tr>\n",
       "  </thead>\n",
       "  <tbody>\n",
       "    <tr>\n",
       "      <th>count</th>\n",
       "      <td>291756.000000</td>\n",
       "      <td>291756.000000</td>\n",
       "      <td>269714.000000</td>\n",
       "      <td>0.0</td>\n",
       "      <td>291756.000000</td>\n",
       "      <td>291756.000000</td>\n",
       "    </tr>\n",
       "    <tr>\n",
       "      <th>mean</th>\n",
       "      <td>37.739323</td>\n",
       "      <td>38155.073130</td>\n",
       "      <td>70.401236</td>\n",
       "      <td>NaN</td>\n",
       "      <td>2012.710793</td>\n",
       "      <td>11.976569</td>\n",
       "    </tr>\n",
       "    <tr>\n",
       "      <th>std</th>\n",
       "      <td>26.066257</td>\n",
       "      <td>26037.440008</td>\n",
       "      <td>37.412044</td>\n",
       "      <td>NaN</td>\n",
       "      <td>4.675819</td>\n",
       "      <td>0.151267</td>\n",
       "    </tr>\n",
       "    <tr>\n",
       "      <th>min</th>\n",
       "      <td>1.000000</td>\n",
       "      <td>1001.000000</td>\n",
       "      <td>0.000000</td>\n",
       "      <td>NaN</td>\n",
       "      <td>2003.000000</td>\n",
       "      <td>11.000000</td>\n",
       "    </tr>\n",
       "    <tr>\n",
       "      <th>25%</th>\n",
       "      <td>15.000000</td>\n",
       "      <td>15673.000000</td>\n",
       "      <td>46.400000</td>\n",
       "      <td>NaN</td>\n",
       "      <td>2009.000000</td>\n",
       "      <td>12.000000</td>\n",
       "    </tr>\n",
       "    <tr>\n",
       "      <th>50%</th>\n",
       "      <td>25.000000</td>\n",
       "      <td>25807.000000</td>\n",
       "      <td>73.300000</td>\n",
       "      <td>NaN</td>\n",
       "      <td>2013.000000</td>\n",
       "      <td>12.000000</td>\n",
       "    </tr>\n",
       "    <tr>\n",
       "      <th>75%</th>\n",
       "      <td>66.000000</td>\n",
       "      <td>66001.000000</td>\n",
       "      <td>95.190000</td>\n",
       "      <td>NaN</td>\n",
       "      <td>2017.000000</td>\n",
       "      <td>12.000000</td>\n",
       "    </tr>\n",
       "    <tr>\n",
       "      <th>max</th>\n",
       "      <td>99.000000</td>\n",
       "      <td>99773.000000</td>\n",
       "      <td>971.920000</td>\n",
       "      <td>NaN</td>\n",
       "      <td>2020.000000</td>\n",
       "      <td>12.000000</td>\n",
       "    </tr>\n",
       "  </tbody>\n",
       "</table>\n",
       "</div>"
      ],
      "text/plain": [
       "       Código Departamento  Código Entidad  Dato Numérico  Dato Cualitativo  \\\n",
       "count        291756.000000   291756.000000  269714.000000               0.0   \n",
       "mean             37.739323    38155.073130      70.401236               NaN   \n",
       "std              26.066257    26037.440008      37.412044               NaN   \n",
       "min               1.000000     1001.000000       0.000000               NaN   \n",
       "25%              15.000000    15673.000000      46.400000               NaN   \n",
       "50%              25.000000    25807.000000      73.300000               NaN   \n",
       "75%              66.000000    66001.000000      95.190000               NaN   \n",
       "max              99.000000    99773.000000     971.920000               NaN   \n",
       "\n",
       "                 Año            Mes  \n",
       "count  291756.000000  291756.000000  \n",
       "mean     2012.710793      11.976569  \n",
       "std         4.675819       0.151267  \n",
       "min      2003.000000      11.000000  \n",
       "25%      2009.000000      12.000000  \n",
       "50%      2013.000000      12.000000  \n",
       "75%      2017.000000      12.000000  \n",
       "max      2020.000000      12.000000  "
      ]
     },
     "execution_count": 4,
     "metadata": {},
     "output_type": "execute_result"
    }
   ],
   "source": [
    "data.describe()"
   ]
  },
  {
   "cell_type": "code",
   "execution_count": 5,
   "metadata": {},
   "outputs": [
    {
     "data": {
      "text/html": [
       "<div>\n",
       "<style scoped>\n",
       "    .dataframe tbody tr th:only-of-type {\n",
       "        vertical-align: middle;\n",
       "    }\n",
       "\n",
       "    .dataframe tbody tr th {\n",
       "        vertical-align: top;\n",
       "    }\n",
       "\n",
       "    .dataframe thead th {\n",
       "        text-align: right;\n",
       "    }\n",
       "</style>\n",
       "<table border=\"1\" class=\"dataframe\">\n",
       "  <thead>\n",
       "    <tr style=\"text-align: right;\">\n",
       "      <th></th>\n",
       "      <th>Código Departamento</th>\n",
       "      <th>Departamento</th>\n",
       "      <th>Código Entidad</th>\n",
       "      <th>Entidad</th>\n",
       "      <th>Dimensión</th>\n",
       "      <th>Subcategoría</th>\n",
       "      <th>Indicador</th>\n",
       "      <th>Dato Numérico</th>\n",
       "      <th>Dato Cualitativo</th>\n",
       "      <th>Año</th>\n",
       "      <th>Mes</th>\n",
       "      <th>Fuente</th>\n",
       "      <th>Unidad de Medida</th>\n",
       "    </tr>\n",
       "  </thead>\n",
       "  <tbody>\n",
       "    <tr>\n",
       "      <th>0</th>\n",
       "      <td>NaN</td>\n",
       "      <td>NaN</td>\n",
       "      <td>NaN</td>\n",
       "      <td>NaN</td>\n",
       "      <td>NaN</td>\n",
       "      <td>NaN</td>\n",
       "      <td>aaaaaaaaaaaaaaaaaaaaaaaaaaaaaaaaaaaaaaaaaaaaaa...</td>\n",
       "      <td>NaN</td>\n",
       "      <td>NaN</td>\n",
       "      <td>NaN</td>\n",
       "      <td>NaN</td>\n",
       "      <td>aaaaaaaaaaaaaaaaaaaaaaaaaaaaaaaaaaaaaaaaaaaaaa...</td>\n",
       "      <td>NaN</td>\n",
       "    </tr>\n",
       "    <tr>\n",
       "      <th>1</th>\n",
       "      <td>20.0</td>\n",
       "      <td>Cesar</td>\n",
       "      <td>20000.0</td>\n",
       "      <td>Cesar</td>\n",
       "      <td>Educación</td>\n",
       "      <td>Acceso a la educación</td>\n",
       "      <td>Cobertura bruta en transición</td>\n",
       "      <td>122.39</td>\n",
       "      <td>NaN</td>\n",
       "      <td>2005.0</td>\n",
       "      <td>12.0</td>\n",
       "      <td>Ministerio de Educación Nacional</td>\n",
       "      <td>Porcentaje (el valor está multiplicado por 100)</td>\n",
       "    </tr>\n",
       "    <tr>\n",
       "      <th>2</th>\n",
       "      <td>20.0</td>\n",
       "      <td>Cesar</td>\n",
       "      <td>20001.0</td>\n",
       "      <td>Valledupar</td>\n",
       "      <td>Educación</td>\n",
       "      <td>Acceso a la educación</td>\n",
       "      <td>Cobertura bruta en transición</td>\n",
       "      <td>98.26</td>\n",
       "      <td>NaN</td>\n",
       "      <td>2005.0</td>\n",
       "      <td>12.0</td>\n",
       "      <td>Ministerio de Educación Nacional</td>\n",
       "      <td>Porcentaje (el valor está multiplicado por 100)</td>\n",
       "    </tr>\n",
       "    <tr>\n",
       "      <th>3</th>\n",
       "      <td>20.0</td>\n",
       "      <td>Cesar</td>\n",
       "      <td>20011.0</td>\n",
       "      <td>Aguachica</td>\n",
       "      <td>Educación</td>\n",
       "      <td>Acceso a la educación</td>\n",
       "      <td>Cobertura bruta en transición</td>\n",
       "      <td>107.07</td>\n",
       "      <td>NaN</td>\n",
       "      <td>2005.0</td>\n",
       "      <td>12.0</td>\n",
       "      <td>Ministerio de Educación Nacional</td>\n",
       "      <td>Porcentaje (el valor está multiplicado por 100)</td>\n",
       "    </tr>\n",
       "    <tr>\n",
       "      <th>4</th>\n",
       "      <td>20.0</td>\n",
       "      <td>Cesar</td>\n",
       "      <td>20013.0</td>\n",
       "      <td>Agustín Codazzi</td>\n",
       "      <td>Educación</td>\n",
       "      <td>Acceso a la educación</td>\n",
       "      <td>Cobertura bruta en transición</td>\n",
       "      <td>120.82</td>\n",
       "      <td>NaN</td>\n",
       "      <td>2005.0</td>\n",
       "      <td>12.0</td>\n",
       "      <td>Ministerio de Educación Nacional</td>\n",
       "      <td>Porcentaje (el valor está multiplicado por 100)</td>\n",
       "    </tr>\n",
       "  </tbody>\n",
       "</table>\n",
       "</div>"
      ],
      "text/plain": [
       "   Código Departamento Departamento  Código Entidad          Entidad  \\\n",
       "0                  NaN          NaN             NaN              NaN   \n",
       "1                 20.0        Cesar         20000.0            Cesar   \n",
       "2                 20.0        Cesar         20001.0       Valledupar   \n",
       "3                 20.0        Cesar         20011.0        Aguachica   \n",
       "4                 20.0        Cesar         20013.0  Agustín Codazzi   \n",
       "\n",
       "   Dimensión           Subcategoría  \\\n",
       "0        NaN                    NaN   \n",
       "1  Educación  Acceso a la educación   \n",
       "2  Educación  Acceso a la educación   \n",
       "3  Educación  Acceso a la educación   \n",
       "4  Educación  Acceso a la educación   \n",
       "\n",
       "                                           Indicador  Dato Numérico  \\\n",
       "0  aaaaaaaaaaaaaaaaaaaaaaaaaaaaaaaaaaaaaaaaaaaaaa...            NaN   \n",
       "1                      Cobertura bruta en transición         122.39   \n",
       "2                      Cobertura bruta en transición          98.26   \n",
       "3                      Cobertura bruta en transición         107.07   \n",
       "4                      Cobertura bruta en transición         120.82   \n",
       "\n",
       "   Dato Cualitativo     Año   Mes  \\\n",
       "0               NaN     NaN   NaN   \n",
       "1               NaN  2005.0  12.0   \n",
       "2               NaN  2005.0  12.0   \n",
       "3               NaN  2005.0  12.0   \n",
       "4               NaN  2005.0  12.0   \n",
       "\n",
       "                                              Fuente  \\\n",
       "0  aaaaaaaaaaaaaaaaaaaaaaaaaaaaaaaaaaaaaaaaaaaaaa...   \n",
       "1                   Ministerio de Educación Nacional   \n",
       "2                   Ministerio de Educación Nacional   \n",
       "3                   Ministerio de Educación Nacional   \n",
       "4                   Ministerio de Educación Nacional   \n",
       "\n",
       "                                  Unidad de Medida  \n",
       "0                                              NaN  \n",
       "1  Porcentaje (el valor está multiplicado por 100)  \n",
       "2  Porcentaje (el valor está multiplicado por 100)  \n",
       "3  Porcentaje (el valor está multiplicado por 100)  \n",
       "4  Porcentaje (el valor está multiplicado por 100)  "
      ]
     },
     "execution_count": 5,
     "metadata": {},
     "output_type": "execute_result"
    }
   ],
   "source": [
    "data.head()"
   ]
  },
  {
   "cell_type": "code",
   "execution_count": 6,
   "metadata": {},
   "outputs": [
    {
     "data": {
      "text/plain": [
       "Código Departamento    float64\n",
       "Departamento            object\n",
       "Código Entidad         float64\n",
       "Entidad                 object\n",
       "Dimensión               object\n",
       "Subcategoría            object\n",
       "Indicador               object\n",
       "Dato Numérico          float64\n",
       "Dato Cualitativo       float64\n",
       "Año                    float64\n",
       "Mes                    float64\n",
       "Fuente                  object\n",
       "Unidad de Medida        object\n",
       "dtype: object"
      ]
     },
     "execution_count": 6,
     "metadata": {},
     "output_type": "execute_result"
    }
   ],
   "source": [
    "data.dtypes"
   ]
  },
  {
   "cell_type": "code",
   "execution_count": 7,
   "metadata": {},
   "outputs": [
    {
     "data": {
      "text/plain": [
       "Código Departamento    0.000003\n",
       "Departamento           0.000003\n",
       "Código Entidad         0.000003\n",
       "Entidad                0.000003\n",
       "Dimensión              0.000003\n",
       "Subcategoría           0.000003\n",
       "Indicador              0.000000\n",
       "Dato Numérico          0.075553\n",
       "Dato Cualitativo       1.000000\n",
       "Año                    0.000003\n",
       "Mes                    0.000003\n",
       "Fuente                 0.000000\n",
       "Unidad de Medida       0.000003\n",
       "dtype: float64"
      ]
     },
     "execution_count": 7,
     "metadata": {},
     "output_type": "execute_result"
    }
   ],
   "source": [
    "data.isnull().mean()"
   ]
  },
  {
   "cell_type": "code",
   "execution_count": 8,
   "metadata": {},
   "outputs": [],
   "source": [
    "data = data.drop(data.index[0])"
   ]
  },
  {
   "cell_type": "code",
   "execution_count": 9,
   "metadata": {},
   "outputs": [],
   "source": [
    "data = data.drop('Dato Cualitativo', axis=1)"
   ]
  },
  {
   "cell_type": "code",
   "execution_count": 10,
   "metadata": {},
   "outputs": [],
   "source": [
    "data = data.dropna(how='any', axis=0)"
   ]
  },
  {
   "cell_type": "code",
   "execution_count": 11,
   "metadata": {},
   "outputs": [
    {
     "data": {
      "text/plain": [
       "Código Departamento    0.0\n",
       "Departamento           0.0\n",
       "Código Entidad         0.0\n",
       "Entidad                0.0\n",
       "Dimensión              0.0\n",
       "Subcategoría           0.0\n",
       "Indicador              0.0\n",
       "Dato Numérico          0.0\n",
       "Año                    0.0\n",
       "Mes                    0.0\n",
       "Fuente                 0.0\n",
       "Unidad de Medida       0.0\n",
       "dtype: float64"
      ]
     },
     "execution_count": 11,
     "metadata": {},
     "output_type": "execute_result"
    }
   ],
   "source": [
    "data.isnull().mean()"
   ]
  },
  {
   "cell_type": "code",
   "execution_count": 12,
   "metadata": {},
   "outputs": [
    {
     "data": {
      "text/plain": [
       "(269714, 12)"
      ]
     },
     "execution_count": 12,
     "metadata": {},
     "output_type": "execute_result"
    }
   ],
   "source": [
    "data.shape"
   ]
  },
  {
   "cell_type": "code",
   "execution_count": 13,
   "metadata": {},
   "outputs": [
    {
     "data": {
      "text/html": [
       "<div>\n",
       "<style scoped>\n",
       "    .dataframe tbody tr th:only-of-type {\n",
       "        vertical-align: middle;\n",
       "    }\n",
       "\n",
       "    .dataframe tbody tr th {\n",
       "        vertical-align: top;\n",
       "    }\n",
       "\n",
       "    .dataframe thead th {\n",
       "        text-align: right;\n",
       "    }\n",
       "</style>\n",
       "<table border=\"1\" class=\"dataframe\">\n",
       "  <thead>\n",
       "    <tr style=\"text-align: right;\">\n",
       "      <th></th>\n",
       "      <th>Código Departamento</th>\n",
       "      <th>Código Entidad</th>\n",
       "      <th>Dato Numérico</th>\n",
       "      <th>Año</th>\n",
       "      <th>Mes</th>\n",
       "    </tr>\n",
       "  </thead>\n",
       "  <tbody>\n",
       "    <tr>\n",
       "      <th>count</th>\n",
       "      <td>269714.000000</td>\n",
       "      <td>269714.000000</td>\n",
       "      <td>269714.000000</td>\n",
       "      <td>269714.000000</td>\n",
       "      <td>269714.000000</td>\n",
       "    </tr>\n",
       "    <tr>\n",
       "      <th>mean</th>\n",
       "      <td>37.549211</td>\n",
       "      <td>37963.749542</td>\n",
       "      <td>70.401236</td>\n",
       "      <td>2013.157322</td>\n",
       "      <td>11.974669</td>\n",
       "    </tr>\n",
       "    <tr>\n",
       "      <th>std</th>\n",
       "      <td>26.084565</td>\n",
       "      <td>26055.578439</td>\n",
       "      <td>37.412044</td>\n",
       "      <td>4.520340</td>\n",
       "      <td>0.157127</td>\n",
       "    </tr>\n",
       "    <tr>\n",
       "      <th>min</th>\n",
       "      <td>1.000000</td>\n",
       "      <td>1001.000000</td>\n",
       "      <td>0.000000</td>\n",
       "      <td>2003.000000</td>\n",
       "      <td>11.000000</td>\n",
       "    </tr>\n",
       "    <tr>\n",
       "      <th>25%</th>\n",
       "      <td>15.000000</td>\n",
       "      <td>15646.000000</td>\n",
       "      <td>46.400000</td>\n",
       "      <td>2009.000000</td>\n",
       "      <td>12.000000</td>\n",
       "    </tr>\n",
       "    <tr>\n",
       "      <th>50%</th>\n",
       "      <td>25.000000</td>\n",
       "      <td>25781.000000</td>\n",
       "      <td>73.300000</td>\n",
       "      <td>2013.000000</td>\n",
       "      <td>12.000000</td>\n",
       "    </tr>\n",
       "    <tr>\n",
       "      <th>75%</th>\n",
       "      <td>63.000000</td>\n",
       "      <td>63690.000000</td>\n",
       "      <td>95.190000</td>\n",
       "      <td>2017.000000</td>\n",
       "      <td>12.000000</td>\n",
       "    </tr>\n",
       "    <tr>\n",
       "      <th>max</th>\n",
       "      <td>99.000000</td>\n",
       "      <td>99773.000000</td>\n",
       "      <td>971.920000</td>\n",
       "      <td>2020.000000</td>\n",
       "      <td>12.000000</td>\n",
       "    </tr>\n",
       "  </tbody>\n",
       "</table>\n",
       "</div>"
      ],
      "text/plain": [
       "       Código Departamento  Código Entidad  Dato Numérico            Año  \\\n",
       "count        269714.000000   269714.000000  269714.000000  269714.000000   \n",
       "mean             37.549211    37963.749542      70.401236    2013.157322   \n",
       "std              26.084565    26055.578439      37.412044       4.520340   \n",
       "min               1.000000     1001.000000       0.000000    2003.000000   \n",
       "25%              15.000000    15646.000000      46.400000    2009.000000   \n",
       "50%              25.000000    25781.000000      73.300000    2013.000000   \n",
       "75%              63.000000    63690.000000      95.190000    2017.000000   \n",
       "max              99.000000    99773.000000     971.920000    2020.000000   \n",
       "\n",
       "                 Mes  \n",
       "count  269714.000000  \n",
       "mean       11.974669  \n",
       "std         0.157127  \n",
       "min        11.000000  \n",
       "25%        12.000000  \n",
       "50%        12.000000  \n",
       "75%        12.000000  \n",
       "max        12.000000  "
      ]
     },
     "execution_count": 13,
     "metadata": {},
     "output_type": "execute_result"
    }
   ],
   "source": [
    "data.describe()"
   ]
  },
  {
   "cell_type": "code",
   "execution_count": 14,
   "metadata": {},
   "outputs": [
    {
     "name": "stdout",
     "output_type": "stream",
     "text": [
      "{'Acceso a la educación': 0, 'Acceso a la educación desagregado por sexo': 1, 'Calidad': 2, 'Logro': 3, 'Permanencia y rezago': 4}\n"
     ]
    }
   ],
   "source": [
    "le = LE()\n",
    "le.fit(data['Subcategoría'])\n",
    "data['Subcategoría'] = le.transform(data['Subcategoría'])\n",
    "SUBCAT_MAP = dict(zip(le.classes_, le.transform(le.classes_)))\n",
    "print(SUBCAT_MAP)"
   ]
  },
  {
   "cell_type": "code",
   "execution_count": 15,
   "metadata": {},
   "outputs": [
    {
     "name": "stdout",
     "output_type": "stream",
     "text": [
      "{'Años de educación': 0, 'Porcentaje': 1, 'Porcentaje (el valor está multiplicado por 100)': 2, 'Puntos': 3}\n"
     ]
    }
   ],
   "source": [
    "le = LE()\n",
    "le.fit(data['Unidad de Medida'])\n",
    "data['Unidad de Medida'] = le.transform(data['Unidad de Medida'])\n",
    "UNIDAD_MAP = dict(zip(le.classes_, le.transform(le.classes_)))\n",
    "print(UNIDAD_MAP)"
   ]
  },
  {
   "cell_type": "code",
   "execution_count": 16,
   "metadata": {},
   "outputs": [
    {
     "name": "stdout",
     "output_type": "stream",
     "text": [
      "{'Años de educación personas de 15 y más años': 0, 'Cobertura bruta en educación - Total': 1, 'Cobertura bruta en educación básica': 2, 'Cobertura bruta en educación media': 3, 'Cobertura bruta en educación primaria': 4, 'Cobertura bruta en educación secundaria': 5, 'Cobertura bruta en transición': 6, 'Cobertura en educación superior': 7, 'Cobertura neta en educación - Total': 8, 'Cobertura neta en educación básica': 9, 'Cobertura neta en educación básica  - Hombres': 10, 'Cobertura neta en educación básica  - Mujeres': 11, 'Cobertura neta en educación media': 12, 'Cobertura neta en educación primaria': 13, 'Cobertura neta en educación secundaria': 14, 'Cobertura neta en educación total - Hombres': 15, 'Cobertura neta en educación total - Mujeres': 16, 'Cobertura neta en transición': 17, 'Porcentaje de asistencia de 5 a 24 años (Censo)': 18, 'Porcentaje de asistencia de 5 a 24 años Rural (Censo)': 19, 'Porcentaje de asistencia de 5 a 24 años Urbana (Censo)': 20, 'Puntaje promedio Pruebas Saber 11 - Lectura crítica': 21, 'Puntaje promedio Pruebas Saber 11 - Matemáticas': 22, 'Tasa de Analfabetismo (Censo)': 23, 'Tasa de Analfabetismo Rural (Censo)': 24, 'Tasa de Analfabetismo Urbana (Censo)': 25, 'Tasa de analfabetismo de personas de 15 y más años': 26, 'Tasa de deserción intra-anual del sector oficial en educación básica y media (Desde transición hasta once)': 27, 'Tasa de repitencia del sector oficial en educación básica y media (Desde transición hasta once)': 28, 'Tasa de tránsito inmediato a la educación superior': 29}\n"
     ]
    }
   ],
   "source": [
    "le = LE()\n",
    "le.fit(data['Indicador'])\n",
    "data['Indicador'] = le.transform(data['Indicador'])\n",
    "INDICADOR_MAP = dict(zip(le.classes_, le.transform(le.classes_)))\n",
    "print(INDICADOR_MAP)"
   ]
  },
  {
   "cell_type": "code",
   "execution_count": 17,
   "metadata": {},
   "outputs": [],
   "source": [
    "data['educacion_key'] = range(1, len(data) + 1)"
   ]
  },
  {
   "cell_type": "code",
   "execution_count": 18,
   "metadata": {},
   "outputs": [
    {
     "data": {
      "image/png": "[encoded data removed]",
      "text/plain": [
       "<Figure size 1000x500 with 1 Axes>"
      ]
     },
     "metadata": {},
     "output_type": "display_data"
    }
   ],
   "source": [
    "# plot bar data\n",
    "import matplotlib.pyplot as plt\n",
    "import seaborn as sns\n",
    "\n",
    "plt.figure(figsize=(10,5))\n",
    "sns.barplot(x='Año', y='Dato Numérico', data=data)\n",
    "plt.show()"
   ]
  },
  {
   "cell_type": "code",
   "execution_count": 19,
   "metadata": {},
   "outputs": [],
   "source": [
    "from sklearn.preprocessing import MinMaxScaler\n",
    "import numpy as np\n",
    "  \n",
    "# apply normalization techniques\n",
    "column = 'Dato Numérico'\n",
    "data[column] = MinMaxScaler().fit_transform(np.array(data[column]).reshape(-1,1))"
   ]
  },
  {
   "cell_type": "code",
   "execution_count": 20,
   "metadata": {},
   "outputs": [
    {
     "data": {
      "image/png": "[encoded data removed]",
      "text/plain": [
       "<Figure size 1000x500 with 1 Axes>"
      ]
     },
     "metadata": {},
     "output_type": "display_data"
    }
   ],
   "source": [
    "plt.figure(figsize=(10,5))\n",
    "sns.barplot(x='Año', y='Dato Numérico', data=data)\n",
    "plt.show()"
   ]
  },
  {
   "cell_type": "code",
   "execution_count": 21,
   "metadata": {},
   "outputs": [],
   "source": [
    "data.to_csv('Datos/Salud_limpio.csv', index=False, decimal='.', sep=';')"
   ]
  }
 ],
 "metadata": {
  "kernelspec": {
   "display_name": "Python 3.10.4 64-bit",
   "language": "python",
   "name": "python3"
  },
  "language_info": {
   "codemirror_mode": {
    "name": "ipython",
    "version": 3
   },
   "file_extension": ".py",
   "mimetype": "text/x-python",
   "name": "python",
   "nbconvert_exporter": "python",
   "pygments_lexer": "ipython3",
   "version": "3.10.4"
  },
  "orig_nbformat": 4,
  "vscode": {
   "interpreter": {
    "hash": "680909a85cd0f96ba1c50ae49c7276dc4874e63b5fd1d1624a0b59680dc2cd74"
   }
  }
 },
 "nbformat": 4,
 "nbformat_minor": 2
}
