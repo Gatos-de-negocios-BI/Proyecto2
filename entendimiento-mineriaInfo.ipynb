{
 "cells": [
  {
   "cell_type": "markdown",
   "metadata": {},
   "source": [
    "<h1>Análisis de datos de mineria Info.json</h1>"
   ]
  },
  {
   "cell_type": "code",
   "execution_count": 1,
   "metadata": {},
   "outputs": [],
   "source": [
    "import pandas as pd\n",
    "import numpy as np"
   ]
  },
  {
   "cell_type": "code",
   "execution_count": 2,
   "metadata": {},
   "outputs": [],
   "source": [
    "df = pd.read_json('mineriaInfo.json')"
   ]
  },
  {
   "cell_type": "code",
   "execution_count": 3,
   "metadata": {},
   "outputs": [
    {
     "data": {
      "text/html": [
       "<div>\n",
       "<style scoped>\n",
       "    .dataframe tbody tr th:only-of-type {\n",
       "        vertical-align: middle;\n",
       "    }\n",
       "\n",
       "    .dataframe tbody tr th {\n",
       "        vertical-align: top;\n",
       "    }\n",
       "\n",
       "    .dataframe thead th {\n",
       "        text-align: right;\n",
       "    }\n",
       "</style>\n",
       "<table border=\"1\" class=\"dataframe\">\n",
       "  <thead>\n",
       "    <tr style=\"text-align: right;\">\n",
       "      <th></th>\n",
       "      <th>codigo_dane</th>\n",
       "      <th>municipio_productor</th>\n",
       "      <th>departamento</th>\n",
       "      <th>recurso_natural</th>\n",
       "      <th>nombre_del_proyecto</th>\n",
       "      <th>a_o_produccion</th>\n",
       "      <th>trimestre</th>\n",
       "      <th>unidad_medida</th>\n",
       "      <th>tipo_contraprestacion</th>\n",
       "      <th>valor_contraprestacion</th>\n",
       "      <th>cantidad_producci_n</th>\n",
       "    </tr>\n",
       "  </thead>\n",
       "  <tbody>\n",
       "    <tr>\n",
       "      <th>0</th>\n",
       "      <td>5001</td>\n",
       "      <td>Medellin</td>\n",
       "      <td>Antioquia</td>\n",
       "      <td>ARCILLA</td>\n",
       "      <td>PRODUCTORES</td>\n",
       "      <td>2018</td>\n",
       "      <td>Trimestre 4</td>\n",
       "      <td>TONELADAS</td>\n",
       "      <td>REGALIA</td>\n",
       "      <td>614258.0</td>\n",
       "      <td>0.0</td>\n",
       "    </tr>\n",
       "    <tr>\n",
       "      <th>1</th>\n",
       "      <td>5001</td>\n",
       "      <td>Medellin</td>\n",
       "      <td>Antioquia</td>\n",
       "      <td>ARCILLAS CERAMICAS</td>\n",
       "      <td>PRODUCTORES</td>\n",
       "      <td>2014</td>\n",
       "      <td>Trimestre 4</td>\n",
       "      <td>TONELADAS</td>\n",
       "      <td>REGALIA</td>\n",
       "      <td>2036781.0</td>\n",
       "      <td>14381.0</td>\n",
       "    </tr>\n",
       "    <tr>\n",
       "      <th>2</th>\n",
       "      <td>5001</td>\n",
       "      <td>Medellin</td>\n",
       "      <td>Antioquia</td>\n",
       "      <td>ARCILLAS FERRUGINOSAS</td>\n",
       "      <td>PRODUCTORES</td>\n",
       "      <td>2012</td>\n",
       "      <td>Trimestre 1</td>\n",
       "      <td>TONELADAS</td>\n",
       "      <td>REGALIA</td>\n",
       "      <td>836927.0</td>\n",
       "      <td>16308.0</td>\n",
       "    </tr>\n",
       "    <tr>\n",
       "      <th>3</th>\n",
       "      <td>5001</td>\n",
       "      <td>Medellin</td>\n",
       "      <td>Antioquia</td>\n",
       "      <td>ARCILLAS MISCELANEAS</td>\n",
       "      <td>PRODUCTORES</td>\n",
       "      <td>2019</td>\n",
       "      <td>Trimestre 1</td>\n",
       "      <td>TONELADAS</td>\n",
       "      <td>REGALIA</td>\n",
       "      <td>5763839.0</td>\n",
       "      <td>33348.0</td>\n",
       "    </tr>\n",
       "    <tr>\n",
       "      <th>4</th>\n",
       "      <td>5001</td>\n",
       "      <td>Medellin</td>\n",
       "      <td>Antioquia</td>\n",
       "      <td>ARCILLAS MISCELANEAS</td>\n",
       "      <td>PRODUCTORES</td>\n",
       "      <td>2019</td>\n",
       "      <td>Trimestre 2</td>\n",
       "      <td>TONELADAS</td>\n",
       "      <td>REGALIA</td>\n",
       "      <td>5802546.0</td>\n",
       "      <td>32485.0</td>\n",
       "    </tr>\n",
       "  </tbody>\n",
       "</table>\n",
       "</div>"
      ],
      "text/plain": [
       "   codigo_dane municipio_productor departamento        recurso_natural  \\\n",
       "0         5001            Medellin    Antioquia                ARCILLA   \n",
       "1         5001            Medellin    Antioquia     ARCILLAS CERAMICAS   \n",
       "2         5001            Medellin    Antioquia  ARCILLAS FERRUGINOSAS   \n",
       "3         5001            Medellin    Antioquia   ARCILLAS MISCELANEAS   \n",
       "4         5001            Medellin    Antioquia   ARCILLAS MISCELANEAS   \n",
       "\n",
       "  nombre_del_proyecto  a_o_produccion    trimestre unidad_medida  \\\n",
       "0         PRODUCTORES            2018  Trimestre 4     TONELADAS   \n",
       "1         PRODUCTORES            2014  Trimestre 4     TONELADAS   \n",
       "2         PRODUCTORES            2012  Trimestre 1     TONELADAS   \n",
       "3         PRODUCTORES            2019  Trimestre 1     TONELADAS   \n",
       "4         PRODUCTORES            2019  Trimestre 2     TONELADAS   \n",
       "\n",
       "  tipo_contraprestacion  valor_contraprestacion  cantidad_producci_n  \n",
       "0               REGALIA                614258.0                  0.0  \n",
       "1               REGALIA               2036781.0              14381.0  \n",
       "2               REGALIA                836927.0              16308.0  \n",
       "3               REGALIA               5763839.0              33348.0  \n",
       "4               REGALIA               5802546.0              32485.0  "
      ]
     },
     "execution_count": 3,
     "metadata": {},
     "output_type": "execute_result"
    }
   ],
   "source": [
    "df.head()"
   ]
  },
  {
   "cell_type": "code",
   "execution_count": 4,
   "metadata": {},
   "outputs": [
    {
     "data": {
      "text/plain": [
       "(45215, 11)"
      ]
     },
     "execution_count": 4,
     "metadata": {},
     "output_type": "execute_result"
    }
   ],
   "source": [
    "df.shape"
   ]
  },
  {
   "cell_type": "code",
   "execution_count": 5,
   "metadata": {},
   "outputs": [
    {
     "data": {
      "text/plain": [
       "codigo_dane                 int64\n",
       "municipio_productor        object\n",
       "departamento               object\n",
       "recurso_natural            object\n",
       "nombre_del_proyecto        object\n",
       "a_o_produccion              int64\n",
       "trimestre                  object\n",
       "unidad_medida              object\n",
       "tipo_contraprestacion      object\n",
       "valor_contraprestacion    float64\n",
       "cantidad_producci_n       float64\n",
       "dtype: object"
      ]
     },
     "execution_count": 5,
     "metadata": {},
     "output_type": "execute_result"
    }
   ],
   "source": [
    "df.dtypes"
   ]
  },
  {
   "cell_type": "code",
   "execution_count": 6,
   "metadata": {},
   "outputs": [
    {
     "data": {
      "text/html": [
       "<div>\n",
       "<style scoped>\n",
       "    .dataframe tbody tr th:only-of-type {\n",
       "        vertical-align: middle;\n",
       "    }\n",
       "\n",
       "    .dataframe tbody tr th {\n",
       "        vertical-align: top;\n",
       "    }\n",
       "\n",
       "    .dataframe thead th {\n",
       "        text-align: right;\n",
       "    }\n",
       "</style>\n",
       "<table border=\"1\" class=\"dataframe\">\n",
       "  <thead>\n",
       "    <tr style=\"text-align: right;\">\n",
       "      <th></th>\n",
       "      <th>codigo_dane</th>\n",
       "      <th>a_o_produccion</th>\n",
       "      <th>valor_contraprestacion</th>\n",
       "      <th>cantidad_producci_n</th>\n",
       "    </tr>\n",
       "  </thead>\n",
       "  <tbody>\n",
       "    <tr>\n",
       "      <th>count</th>\n",
       "      <td>45215.000000</td>\n",
       "      <td>45215.000000</td>\n",
       "      <td>4.515500e+04</td>\n",
       "      <td>4.521400e+04</td>\n",
       "    </tr>\n",
       "    <tr>\n",
       "      <th>mean</th>\n",
       "      <td>32192.671392</td>\n",
       "      <td>2016.110384</td>\n",
       "      <td>3.829653e+08</td>\n",
       "      <td>6.450541e+04</td>\n",
       "    </tr>\n",
       "    <tr>\n",
       "      <th>std</th>\n",
       "      <td>23941.334350</td>\n",
       "      <td>2.617226</td>\n",
       "      <td>2.812314e+09</td>\n",
       "      <td>5.967901e+05</td>\n",
       "    </tr>\n",
       "    <tr>\n",
       "      <th>min</th>\n",
       "      <td>5001.000000</td>\n",
       "      <td>2012.000000</td>\n",
       "      <td>0.000000e+00</td>\n",
       "      <td>0.000000e+00</td>\n",
       "    </tr>\n",
       "    <tr>\n",
       "      <th>25%</th>\n",
       "      <td>15403.000000</td>\n",
       "      <td>2014.000000</td>\n",
       "      <td>1.620040e+05</td>\n",
       "      <td>5.550000e+02</td>\n",
       "    </tr>\n",
       "    <tr>\n",
       "      <th>50%</th>\n",
       "      <td>25260.000000</td>\n",
       "      <td>2016.000000</td>\n",
       "      <td>1.489218e+06</td>\n",
       "      <td>3.433000e+03</td>\n",
       "    </tr>\n",
       "    <tr>\n",
       "      <th>75%</th>\n",
       "      <td>52079.000000</td>\n",
       "      <td>2018.000000</td>\n",
       "      <td>1.640020e+07</td>\n",
       "      <td>1.934100e+04</td>\n",
       "    </tr>\n",
       "    <tr>\n",
       "      <th>max</th>\n",
       "      <td>99773.000000</td>\n",
       "      <td>2021.000000</td>\n",
       "      <td>1.554652e+11</td>\n",
       "      <td>2.672629e+07</td>\n",
       "    </tr>\n",
       "  </tbody>\n",
       "</table>\n",
       "</div>"
      ],
      "text/plain": [
       "        codigo_dane  a_o_produccion  valor_contraprestacion  \\\n",
       "count  45215.000000    45215.000000            4.515500e+04   \n",
       "mean   32192.671392     2016.110384            3.829653e+08   \n",
       "std    23941.334350        2.617226            2.812314e+09   \n",
       "min     5001.000000     2012.000000            0.000000e+00   \n",
       "25%    15403.000000     2014.000000            1.620040e+05   \n",
       "50%    25260.000000     2016.000000            1.489218e+06   \n",
       "75%    52079.000000     2018.000000            1.640020e+07   \n",
       "max    99773.000000     2021.000000            1.554652e+11   \n",
       "\n",
       "       cantidad_producci_n  \n",
       "count         4.521400e+04  \n",
       "mean          6.450541e+04  \n",
       "std           5.967901e+05  \n",
       "min           0.000000e+00  \n",
       "25%           5.550000e+02  \n",
       "50%           3.433000e+03  \n",
       "75%           1.934100e+04  \n",
       "max           2.672629e+07  "
      ]
     },
     "execution_count": 6,
     "metadata": {},
     "output_type": "execute_result"
    }
   ],
   "source": [
    "df.describe()"
   ]
  },
  {
   "cell_type": "code",
   "execution_count": 7,
   "metadata": {},
   "outputs": [
    {
     "data": {
      "text/plain": [
       "codigo_dane                 int64\n",
       "municipio_productor        object\n",
       "departamento               object\n",
       "recurso_natural            object\n",
       "nombre_del_proyecto        object\n",
       "a_o_produccion              int64\n",
       "trimestre                  object\n",
       "unidad_medida              object\n",
       "tipo_contraprestacion      object\n",
       "valor_contraprestacion    float64\n",
       "cantidad_producci_n       float64\n",
       "dtype: object"
      ]
     },
     "execution_count": 7,
     "metadata": {},
     "output_type": "execute_result"
    }
   ],
   "source": [
    "df.dtypes"
   ]
  },
  {
   "cell_type": "code",
   "execution_count": 8,
   "metadata": {},
   "outputs": [
    {
     "data": {
      "text/plain": [
       "codigo_dane               0.000000\n",
       "municipio_productor       0.000000\n",
       "departamento              0.000000\n",
       "recurso_natural           0.000000\n",
       "nombre_del_proyecto       0.000000\n",
       "a_o_produccion            0.000000\n",
       "trimestre                 0.000000\n",
       "unidad_medida             0.000000\n",
       "tipo_contraprestacion     0.000000\n",
       "valor_contraprestacion    0.001327\n",
       "cantidad_producci_n       0.000022\n",
       "dtype: float64"
      ]
     },
     "execution_count": 8,
     "metadata": {},
     "output_type": "execute_result"
    }
   ],
   "source": [
    "df.isnull().mean()"
   ]
  },
  {
   "cell_type": "code",
   "execution_count": 9,
   "metadata": {},
   "outputs": [],
   "source": [
    "df = df.dropna(how='any', axis=0)"
   ]
  },
  {
   "cell_type": "code",
   "execution_count": 10,
   "metadata": {},
   "outputs": [
    {
     "data": {
      "text/plain": [
       "ORO                                         9331\n",
       "PLATA                                       6382\n",
       "CARBON                                      4719\n",
       "GRAVAS                                      4364\n",
       "ARENAS                                      3519\n",
       "                                            ... \n",
       "SERPENTINA (BLOQUE MAYOR O IGUAL A 1 M3)       3\n",
       "CARBONATO DE CALCIO                            2\n",
       "GRAFITO                                        2\n",
       "GRANITO (BLOQUE MAYOR O IGUAL A 1 M3)          1\n",
       "ASBESTO                                        1\n",
       "Name: recurso_natural, Length: 70, dtype: int64"
      ]
     },
     "execution_count": 10,
     "metadata": {},
     "output_type": "execute_result"
    }
   ],
   "source": [
    "df.recurso_natural.value_counts()"
   ]
  },
  {
   "cell_type": "code",
   "execution_count": 11,
   "metadata": {},
   "outputs": [
    {
     "data": {
      "text/plain": [
       "GRAMOS            17301\n",
       "METROS CUBICOS    16173\n",
       "TONELADAS         10688\n",
       "QUILATES            730\n",
       "LIBRAS              182\n",
       "KILOGRAMOS           80\n",
       "Name: unidad_medida, dtype: int64"
      ]
     },
     "execution_count": 11,
     "metadata": {},
     "output_type": "execute_result"
    }
   ],
   "source": [
    "df.unidad_medida.value_counts()"
   ]
  },
  {
   "cell_type": "code",
   "execution_count": 12,
   "metadata": {},
   "outputs": [],
   "source": [
    "df = df[df['unidad_medida'].str.fullmatch('GRAMOS')]"
   ]
  },
  {
   "cell_type": "code",
   "execution_count": 13,
   "metadata": {},
   "outputs": [
    {
     "data": {
      "text/plain": [
       "GRAMOS    17301\n",
       "Name: unidad_medida, dtype: int64"
      ]
     },
     "execution_count": 13,
     "metadata": {},
     "output_type": "execute_result"
    }
   ],
   "source": [
    "df.unidad_medida.value_counts()"
   ]
  },
  {
   "cell_type": "code",
   "execution_count": 14,
   "metadata": {},
   "outputs": [
    {
     "data": {
      "text/plain": [
       "ORO        9331\n",
       "PLATA      6382\n",
       "PLATINO    1588\n",
       "Name: recurso_natural, dtype: int64"
      ]
     },
     "execution_count": 14,
     "metadata": {},
     "output_type": "execute_result"
    }
   ],
   "source": [
    "df.recurso_natural.value_counts()"
   ]
  },
  {
   "cell_type": "code",
   "execution_count": 15,
   "metadata": {},
   "outputs": [
    {
     "data": {
      "text/plain": [
       "(17301, 11)"
      ]
     },
     "execution_count": 15,
     "metadata": {},
     "output_type": "execute_result"
    }
   ],
   "source": [
    "df.shape"
   ]
  },
  {
   "cell_type": "code",
   "execution_count": 19,
   "metadata": {},
   "outputs": [
    {
     "data": {
      "image/png": "[encoded data removed]",
      "text/plain": [
       "<Figure size 1000x500 with 1 Axes>"
      ]
     },
     "metadata": {},
     "output_type": "display_data"
    }
   ],
   "source": [
    "import matplotlib.pyplot as plt\n",
    "import seaborn as sns\n",
    "\n",
    "plt.figure(figsize=(10,5))\n",
    "sns.barplot(x='recurso_natural', y='cantidad_producci_n', data=df)\n",
    "plt.show()"
   ]
  },
  {
   "cell_type": "code",
   "execution_count": 20,
   "metadata": {},
   "outputs": [],
   "source": [
    "from sklearn.preprocessing import MinMaxScaler\n",
    "import numpy as np\n",
    "  \n",
    "# apply normalization techniques\n",
    "column = 'cantidad_producci_n'\n",
    "df[column] = MinMaxScaler().fit_transform(np.array(df[column]).reshape(-1,1))"
   ]
  },
  {
   "cell_type": "code",
   "execution_count": 21,
   "metadata": {},
   "outputs": [
    {
     "data": {
      "image/png": "[encoded data removed]",
      "text/plain": [
       "<Figure size 1000x500 with 1 Axes>"
      ]
     },
     "metadata": {},
     "output_type": "display_data"
    }
   ],
   "source": [
    "import matplotlib.pyplot as plt\n",
    "import seaborn as sns\n",
    "\n",
    "plt.figure(figsize=(10,5))\n",
    "sns.barplot(x='recurso_natural', y='cantidad_producci_n', data=df)\n",
    "plt.show()"
   ]
  },
  {
   "cell_type": "code",
   "execution_count": 22,
   "metadata": {},
   "outputs": [],
   "source": [
    "df.to_csv('Datos/mineriaInfo_limpio.csv', index=False, decimal='.', sep=';')"
   ]
  }
 ],
 "metadata": {
  "kernelspec": {
   "display_name": "Python 3.10.4 64-bit",
   "language": "python",
   "name": "python3"
  },
  "language_info": {
   "codemirror_mode": {
    "name": "ipython",
    "version": 3
   },
   "file_extension": ".py",
   "mimetype": "text/x-python",
   "name": "python",
   "nbconvert_exporter": "python",
   "pygments_lexer": "ipython3",
   "version": "3.10.4"
  },
  "orig_nbformat": 4,
  "vscode": {
   "interpreter": {
    "hash": "680909a85cd0f96ba1c50ae49c7276dc4874e63b5fd1d1624a0b59680dc2cd74"
   }
  }
 },
 "nbformat": 4,
 "nbformat_minor": 2
}
